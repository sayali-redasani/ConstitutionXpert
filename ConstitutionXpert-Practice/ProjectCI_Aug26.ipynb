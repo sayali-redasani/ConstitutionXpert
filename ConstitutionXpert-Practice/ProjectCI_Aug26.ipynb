{
  "nbformat": 4,
  "nbformat_minor": 0,
  "metadata": {
    "colab": {
      "provenance": [],
      "gpuType": "T4",
      "toc_visible": true,
      "mount_file_id": "1lkOHANi_A0f8FSEMpekKjFrML7s7FPDX",
      "authorship_tag": "ABX9TyNWG11vhaXRK/pMXVXXZHma",
      "include_colab_link": true
    },
    "kernelspec": {
      "name": "python3",
      "display_name": "Python 3"
    },
    "language_info": {
      "name": "python"
    },
    "accelerator": "GPU"
  },
  "cells": [
    {
      "cell_type": "markdown",
      "metadata": {
        "id": "view-in-github",
        "colab_type": "text"
      },
      "source": [
        "<a href=\"https://colab.research.google.com/github/lucken99/ConstitutionXpert/blob/main/ProjectCI_Aug26.ipynb\" target=\"_parent\"><img src=\"https://colab.research.google.com/assets/colab-badge.svg\" alt=\"Open In Colab\"/></a>"
      ]
    },
    {
      "cell_type": "code",
      "source": [
        "## Install all required libraries\n",
        "!pip install langchain\n",
        "!pip install pypdf\n",
        "\n",
        "!pip install pdfminer.six\n",
        "# !pip install unstructured pdf2image  # for unstructured pdf loader (legacy)\n",
        "\n",
        "!pip install tiktoken\n",
        "!pip install sentence_transformers\n",
        "!pip install chromadb\n",
        "!pip install cohere\n",
        "!pip install openai\n",
        "!pip install litellm\n",
        "!pip install rank_bm25\n",
        "!pip install google-api-python-client\n",
        "# !pip install ipython\n",
        "# !pip install IPykernel\n",
        "!pip install nest-asyncio\n",
        "!pip install html2text\n"
      ],
      "metadata": {
        "id": "BgpefP-o6XBv",
        "colab": {
          "base_uri": "https://localhost:8080/"
        },
        "outputId": "8412fb9e-ae8e-4999-8a6c-f5bd39f4d0a4"
      },
      "execution_count": 1,
      "outputs": [
        {
          "output_type": "stream",
          "name": "stdout",
          "text": [
            "Collecting langchain\n",
            "  Downloading langchain-0.0.274-py3-none-any.whl (1.6 MB)\n",
            "\u001b[2K     \u001b[90m━━━━━━━━━━━━━━━━━━━━━━━━━━━━━━━━━━━━━━━━\u001b[0m \u001b[32m1.6/1.6 MB\u001b[0m \u001b[31m8.8 MB/s\u001b[0m eta \u001b[36m0:00:00\u001b[0m\n",
            "\u001b[?25hRequirement already satisfied: PyYAML>=5.3 in /usr/local/lib/python3.10/dist-packages (from langchain) (6.0.1)\n",
            "Requirement already satisfied: SQLAlchemy<3,>=1.4 in /usr/local/lib/python3.10/dist-packages (from langchain) (2.0.20)\n",
            "Requirement already satisfied: aiohttp<4.0.0,>=3.8.3 in /usr/local/lib/python3.10/dist-packages (from langchain) (3.8.5)\n",
            "Requirement already satisfied: async-timeout<5.0.0,>=4.0.0 in /usr/local/lib/python3.10/dist-packages (from langchain) (4.0.3)\n",
            "Collecting dataclasses-json<0.6.0,>=0.5.7 (from langchain)\n",
            "  Downloading dataclasses_json-0.5.14-py3-none-any.whl (26 kB)\n",
            "Collecting langsmith<0.1.0,>=0.0.21 (from langchain)\n",
            "  Downloading langsmith-0.0.27-py3-none-any.whl (34 kB)\n",
            "Requirement already satisfied: numexpr<3.0.0,>=2.8.4 in /usr/local/lib/python3.10/dist-packages (from langchain) (2.8.5)\n",
            "Requirement already satisfied: numpy<2,>=1 in /usr/local/lib/python3.10/dist-packages (from langchain) (1.23.5)\n",
            "Requirement already satisfied: pydantic<3,>=1 in /usr/local/lib/python3.10/dist-packages (from langchain) (2.2.1)\n",
            "Requirement already satisfied: requests<3,>=2 in /usr/local/lib/python3.10/dist-packages (from langchain) (2.31.0)\n",
            "Requirement already satisfied: tenacity<9.0.0,>=8.1.0 in /usr/local/lib/python3.10/dist-packages (from langchain) (8.2.3)\n",
            "Requirement already satisfied: attrs>=17.3.0 in /usr/local/lib/python3.10/dist-packages (from aiohttp<4.0.0,>=3.8.3->langchain) (23.1.0)\n",
            "Requirement already satisfied: charset-normalizer<4.0,>=2.0 in /usr/local/lib/python3.10/dist-packages (from aiohttp<4.0.0,>=3.8.3->langchain) (3.2.0)\n",
            "Requirement already satisfied: multidict<7.0,>=4.5 in /usr/local/lib/python3.10/dist-packages (from aiohttp<4.0.0,>=3.8.3->langchain) (6.0.4)\n",
            "Requirement already satisfied: yarl<2.0,>=1.0 in /usr/local/lib/python3.10/dist-packages (from aiohttp<4.0.0,>=3.8.3->langchain) (1.9.2)\n",
            "Requirement already satisfied: frozenlist>=1.1.1 in /usr/local/lib/python3.10/dist-packages (from aiohttp<4.0.0,>=3.8.3->langchain) (1.4.0)\n",
            "Requirement already satisfied: aiosignal>=1.1.2 in /usr/local/lib/python3.10/dist-packages (from aiohttp<4.0.0,>=3.8.3->langchain) (1.3.1)\n",
            "Collecting marshmallow<4.0.0,>=3.18.0 (from dataclasses-json<0.6.0,>=0.5.7->langchain)\n",
            "  Downloading marshmallow-3.20.1-py3-none-any.whl (49 kB)\n",
            "\u001b[2K     \u001b[90m━━━━━━━━━━━━━━━━━━━━━━━━━━━━━━━━━━━━━━━━\u001b[0m \u001b[32m49.4/49.4 kB\u001b[0m \u001b[31m6.1 MB/s\u001b[0m eta \u001b[36m0:00:00\u001b[0m\n",
            "\u001b[?25hCollecting typing-inspect<1,>=0.4.0 (from dataclasses-json<0.6.0,>=0.5.7->langchain)\n",
            "  Downloading typing_inspect-0.9.0-py3-none-any.whl (8.8 kB)\n",
            "Requirement already satisfied: annotated-types>=0.4.0 in /usr/local/lib/python3.10/dist-packages (from pydantic<3,>=1->langchain) (0.5.0)\n",
            "Requirement already satisfied: pydantic-core==2.6.1 in /usr/local/lib/python3.10/dist-packages (from pydantic<3,>=1->langchain) (2.6.1)\n",
            "Requirement already satisfied: typing-extensions>=4.6.1 in /usr/local/lib/python3.10/dist-packages (from pydantic<3,>=1->langchain) (4.7.1)\n",
            "Requirement already satisfied: idna<4,>=2.5 in /usr/local/lib/python3.10/dist-packages (from requests<3,>=2->langchain) (3.4)\n",
            "Requirement already satisfied: urllib3<3,>=1.21.1 in /usr/local/lib/python3.10/dist-packages (from requests<3,>=2->langchain) (2.0.4)\n",
            "Requirement already satisfied: certifi>=2017.4.17 in /usr/local/lib/python3.10/dist-packages (from requests<3,>=2->langchain) (2023.7.22)\n",
            "Requirement already satisfied: greenlet!=0.4.17 in /usr/local/lib/python3.10/dist-packages (from SQLAlchemy<3,>=1.4->langchain) (2.0.2)\n",
            "Requirement already satisfied: packaging>=17.0 in /usr/local/lib/python3.10/dist-packages (from marshmallow<4.0.0,>=3.18.0->dataclasses-json<0.6.0,>=0.5.7->langchain) (23.1)\n",
            "Collecting mypy-extensions>=0.3.0 (from typing-inspect<1,>=0.4.0->dataclasses-json<0.6.0,>=0.5.7->langchain)\n",
            "  Downloading mypy_extensions-1.0.0-py3-none-any.whl (4.7 kB)\n",
            "Installing collected packages: mypy-extensions, marshmallow, typing-inspect, langsmith, dataclasses-json, langchain\n",
            "Successfully installed dataclasses-json-0.5.14 langchain-0.0.274 langsmith-0.0.27 marshmallow-3.20.1 mypy-extensions-1.0.0 typing-inspect-0.9.0\n",
            "Collecting pypdf\n",
            "  Downloading pypdf-3.15.4-py3-none-any.whl (272 kB)\n",
            "\u001b[2K     \u001b[90m━━━━━━━━━━━━━━━━━━━━━━━━━━━━━━━━━━━━━━━\u001b[0m \u001b[32m272.3/272.3 kB\u001b[0m \u001b[31m4.8 MB/s\u001b[0m eta \u001b[36m0:00:00\u001b[0m\n",
            "\u001b[?25hInstalling collected packages: pypdf\n",
            "Successfully installed pypdf-3.15.4\n",
            "Collecting pdfminer.six\n",
            "  Downloading pdfminer.six-20221105-py3-none-any.whl (5.6 MB)\n",
            "\u001b[2K     \u001b[90m━━━━━━━━━━━━━━━━━━━━━━━━━━━━━━━━━━━━━━━━\u001b[0m \u001b[32m5.6/5.6 MB\u001b[0m \u001b[31m14.5 MB/s\u001b[0m eta \u001b[36m0:00:00\u001b[0m\n",
            "\u001b[?25hRequirement already satisfied: charset-normalizer>=2.0.0 in /usr/local/lib/python3.10/dist-packages (from pdfminer.six) (3.2.0)\n",
            "Requirement already satisfied: cryptography>=36.0.0 in /usr/local/lib/python3.10/dist-packages (from pdfminer.six) (41.0.3)\n",
            "Requirement already satisfied: cffi>=1.12 in /usr/local/lib/python3.10/dist-packages (from cryptography>=36.0.0->pdfminer.six) (1.15.1)\n",
            "Requirement already satisfied: pycparser in /usr/local/lib/python3.10/dist-packages (from cffi>=1.12->cryptography>=36.0.0->pdfminer.six) (2.21)\n",
            "Installing collected packages: pdfminer.six\n",
            "Successfully installed pdfminer.six-20221105\n",
            "Collecting tiktoken\n",
            "  Downloading tiktoken-0.4.0-cp310-cp310-manylinux_2_17_x86_64.manylinux2014_x86_64.whl (1.7 MB)\n",
            "\u001b[2K     \u001b[90m━━━━━━━━━━━━━━━━━━━━━━━━━━━━━━━━━━━━━━━━\u001b[0m \u001b[32m1.7/1.7 MB\u001b[0m \u001b[31m10.2 MB/s\u001b[0m eta \u001b[36m0:00:00\u001b[0m\n",
            "\u001b[?25hRequirement already satisfied: regex>=2022.1.18 in /usr/local/lib/python3.10/dist-packages (from tiktoken) (2023.6.3)\n",
            "Requirement already satisfied: requests>=2.26.0 in /usr/local/lib/python3.10/dist-packages (from tiktoken) (2.31.0)\n",
            "Requirement already satisfied: charset-normalizer<4,>=2 in /usr/local/lib/python3.10/dist-packages (from requests>=2.26.0->tiktoken) (3.2.0)\n",
            "Requirement already satisfied: idna<4,>=2.5 in /usr/local/lib/python3.10/dist-packages (from requests>=2.26.0->tiktoken) (3.4)\n",
            "Requirement already satisfied: urllib3<3,>=1.21.1 in /usr/local/lib/python3.10/dist-packages (from requests>=2.26.0->tiktoken) (2.0.4)\n",
            "Requirement already satisfied: certifi>=2017.4.17 in /usr/local/lib/python3.10/dist-packages (from requests>=2.26.0->tiktoken) (2023.7.22)\n",
            "Installing collected packages: tiktoken\n",
            "Successfully installed tiktoken-0.4.0\n",
            "Collecting sentence_transformers\n",
            "  Downloading sentence-transformers-2.2.2.tar.gz (85 kB)\n",
            "\u001b[2K     \u001b[90m━━━━━━━━━━━━━━━━━━━━━━━━━━━━━━━━━━━━━━━━\u001b[0m \u001b[32m86.0/86.0 kB\u001b[0m \u001b[31m2.2 MB/s\u001b[0m eta \u001b[36m0:00:00\u001b[0m\n",
            "\u001b[?25h  Preparing metadata (setup.py) ... \u001b[?25l\u001b[?25hdone\n",
            "Collecting transformers<5.0.0,>=4.6.0 (from sentence_transformers)\n",
            "  Downloading transformers-4.32.0-py3-none-any.whl (7.5 MB)\n",
            "\u001b[2K     \u001b[90m━━━━━━━━━━━━━━━━━━━━━━━━━━━━━━━━━━━━━━━━\u001b[0m \u001b[32m7.5/7.5 MB\u001b[0m \u001b[31m67.3 MB/s\u001b[0m eta \u001b[36m0:00:00\u001b[0m\n",
            "\u001b[?25hRequirement already satisfied: tqdm in /usr/local/lib/python3.10/dist-packages (from sentence_transformers) (4.66.1)\n",
            "Requirement already satisfied: torch>=1.6.0 in /usr/local/lib/python3.10/dist-packages (from sentence_transformers) (2.0.1+cu118)\n",
            "Requirement already satisfied: torchvision in /usr/local/lib/python3.10/dist-packages (from sentence_transformers) (0.15.2+cu118)\n",
            "Requirement already satisfied: numpy in /usr/local/lib/python3.10/dist-packages (from sentence_transformers) (1.23.5)\n",
            "Requirement already satisfied: scikit-learn in /usr/local/lib/python3.10/dist-packages (from sentence_transformers) (1.2.2)\n",
            "Requirement already satisfied: scipy in /usr/local/lib/python3.10/dist-packages (from sentence_transformers) (1.10.1)\n",
            "Requirement already satisfied: nltk in /usr/local/lib/python3.10/dist-packages (from sentence_transformers) (3.8.1)\n",
            "Collecting sentencepiece (from sentence_transformers)\n",
            "  Downloading sentencepiece-0.1.99-cp310-cp310-manylinux_2_17_x86_64.manylinux2014_x86_64.whl (1.3 MB)\n",
            "\u001b[2K     \u001b[90m━━━━━━━━━━━━━━━━━━━━━━━━━━━━━━━━━━━━━━━━\u001b[0m \u001b[32m1.3/1.3 MB\u001b[0m \u001b[31m77.2 MB/s\u001b[0m eta \u001b[36m0:00:00\u001b[0m\n",
            "\u001b[?25hCollecting huggingface-hub>=0.4.0 (from sentence_transformers)\n",
            "  Downloading huggingface_hub-0.16.4-py3-none-any.whl (268 kB)\n",
            "\u001b[2K     \u001b[90m━━━━━━━━━━━━━━━━━━━━━━━━━━━━━━━━━━━━━━\u001b[0m \u001b[32m268.8/268.8 kB\u001b[0m \u001b[31m32.1 MB/s\u001b[0m eta \u001b[36m0:00:00\u001b[0m\n",
            "\u001b[?25hRequirement already satisfied: filelock in /usr/local/lib/python3.10/dist-packages (from huggingface-hub>=0.4.0->sentence_transformers) (3.12.2)\n",
            "Requirement already satisfied: fsspec in /usr/local/lib/python3.10/dist-packages (from huggingface-hub>=0.4.0->sentence_transformers) (2023.6.0)\n",
            "Requirement already satisfied: requests in /usr/local/lib/python3.10/dist-packages (from huggingface-hub>=0.4.0->sentence_transformers) (2.31.0)\n",
            "Requirement already satisfied: pyyaml>=5.1 in /usr/local/lib/python3.10/dist-packages (from huggingface-hub>=0.4.0->sentence_transformers) (6.0.1)\n",
            "Requirement already satisfied: typing-extensions>=3.7.4.3 in /usr/local/lib/python3.10/dist-packages (from huggingface-hub>=0.4.0->sentence_transformers) (4.7.1)\n",
            "Requirement already satisfied: packaging>=20.9 in /usr/local/lib/python3.10/dist-packages (from huggingface-hub>=0.4.0->sentence_transformers) (23.1)\n",
            "Requirement already satisfied: sympy in /usr/local/lib/python3.10/dist-packages (from torch>=1.6.0->sentence_transformers) (1.12)\n",
            "Requirement already satisfied: networkx in /usr/local/lib/python3.10/dist-packages (from torch>=1.6.0->sentence_transformers) (3.1)\n",
            "Requirement already satisfied: jinja2 in /usr/local/lib/python3.10/dist-packages (from torch>=1.6.0->sentence_transformers) (3.1.2)\n",
            "Requirement already satisfied: triton==2.0.0 in /usr/local/lib/python3.10/dist-packages (from torch>=1.6.0->sentence_transformers) (2.0.0)\n",
            "Requirement already satisfied: cmake in /usr/local/lib/python3.10/dist-packages (from triton==2.0.0->torch>=1.6.0->sentence_transformers) (3.27.2)\n",
            "Requirement already satisfied: lit in /usr/local/lib/python3.10/dist-packages (from triton==2.0.0->torch>=1.6.0->sentence_transformers) (16.0.6)\n",
            "Requirement already satisfied: regex!=2019.12.17 in /usr/local/lib/python3.10/dist-packages (from transformers<5.0.0,>=4.6.0->sentence_transformers) (2023.6.3)\n",
            "Collecting tokenizers!=0.11.3,<0.14,>=0.11.1 (from transformers<5.0.0,>=4.6.0->sentence_transformers)\n",
            "  Downloading tokenizers-0.13.3-cp310-cp310-manylinux_2_17_x86_64.manylinux2014_x86_64.whl (7.8 MB)\n",
            "\u001b[2K     \u001b[90m━━━━━━━━━━━━━━━━━━━━━━━━━━━━━━━━━━━━━━━━\u001b[0m \u001b[32m7.8/7.8 MB\u001b[0m \u001b[31m115.4 MB/s\u001b[0m eta \u001b[36m0:00:00\u001b[0m\n",
            "\u001b[?25hCollecting safetensors>=0.3.1 (from transformers<5.0.0,>=4.6.0->sentence_transformers)\n",
            "  Downloading safetensors-0.3.3-cp310-cp310-manylinux_2_17_x86_64.manylinux2014_x86_64.whl (1.3 MB)\n",
            "\u001b[2K     \u001b[90m━━━━━━━━━━━━━━━━━━━━━━━━━━━━━━━━━━━━━━━━\u001b[0m \u001b[32m1.3/1.3 MB\u001b[0m \u001b[31m85.4 MB/s\u001b[0m eta \u001b[36m0:00:00\u001b[0m\n",
            "\u001b[?25hRequirement already satisfied: click in /usr/local/lib/python3.10/dist-packages (from nltk->sentence_transformers) (8.1.7)\n",
            "Requirement already satisfied: joblib in /usr/local/lib/python3.10/dist-packages (from nltk->sentence_transformers) (1.3.2)\n",
            "Requirement already satisfied: threadpoolctl>=2.0.0 in /usr/local/lib/python3.10/dist-packages (from scikit-learn->sentence_transformers) (3.2.0)\n",
            "Requirement already satisfied: pillow!=8.3.*,>=5.3.0 in /usr/local/lib/python3.10/dist-packages (from torchvision->sentence_transformers) (9.4.0)\n",
            "Requirement already satisfied: MarkupSafe>=2.0 in /usr/local/lib/python3.10/dist-packages (from jinja2->torch>=1.6.0->sentence_transformers) (2.1.3)\n",
            "Requirement already satisfied: charset-normalizer<4,>=2 in /usr/local/lib/python3.10/dist-packages (from requests->huggingface-hub>=0.4.0->sentence_transformers) (3.2.0)\n",
            "Requirement already satisfied: idna<4,>=2.5 in /usr/local/lib/python3.10/dist-packages (from requests->huggingface-hub>=0.4.0->sentence_transformers) (3.4)\n",
            "Requirement already satisfied: urllib3<3,>=1.21.1 in /usr/local/lib/python3.10/dist-packages (from requests->huggingface-hub>=0.4.0->sentence_transformers) (2.0.4)\n",
            "Requirement already satisfied: certifi>=2017.4.17 in /usr/local/lib/python3.10/dist-packages (from requests->huggingface-hub>=0.4.0->sentence_transformers) (2023.7.22)\n",
            "Requirement already satisfied: mpmath>=0.19 in /usr/local/lib/python3.10/dist-packages (from sympy->torch>=1.6.0->sentence_transformers) (1.3.0)\n",
            "Building wheels for collected packages: sentence_transformers\n",
            "  Building wheel for sentence_transformers (setup.py) ... \u001b[?25l\u001b[?25hdone\n",
            "  Created wheel for sentence_transformers: filename=sentence_transformers-2.2.2-py3-none-any.whl size=125923 sha256=f3feadf4652301d3b642ed2147bca604f1202dfeed95127310be2a456f39a20c\n",
            "  Stored in directory: /root/.cache/pip/wheels/62/f2/10/1e606fd5f02395388f74e7462910fe851042f97238cbbd902f\n",
            "Successfully built sentence_transformers\n",
            "Installing collected packages: tokenizers, sentencepiece, safetensors, huggingface-hub, transformers, sentence_transformers\n",
            "Successfully installed huggingface-hub-0.16.4 safetensors-0.3.3 sentence_transformers-2.2.2 sentencepiece-0.1.99 tokenizers-0.13.3 transformers-4.32.0\n",
            "Collecting chromadb\n",
            "  Downloading chromadb-0.4.7-py3-none-any.whl (415 kB)\n",
            "\u001b[2K     \u001b[90m━━━━━━━━━━━━━━━━━━━━━━━━━━━━━━━━━━━━━━━\u001b[0m \u001b[32m415.5/415.5 kB\u001b[0m \u001b[31m5.8 MB/s\u001b[0m eta \u001b[36m0:00:00\u001b[0m\n",
            "\u001b[?25hRequirement already satisfied: requests>=2.28 in /usr/local/lib/python3.10/dist-packages (from chromadb) (2.31.0)\n",
            "Collecting pydantic<2.0,>=1.9 (from chromadb)\n",
            "  Downloading pydantic-1.10.12-cp310-cp310-manylinux_2_17_x86_64.manylinux2014_x86_64.whl (3.1 MB)\n",
            "\u001b[2K     \u001b[90m━━━━━━━━━━━━━━━━━━━━━━━━━━━━━━━━━━━━━━━━\u001b[0m \u001b[32m3.1/3.1 MB\u001b[0m \u001b[31m14.5 MB/s\u001b[0m eta \u001b[36m0:00:00\u001b[0m\n",
            "\u001b[?25hCollecting chroma-hnswlib==0.7.2 (from chromadb)\n",
            "  Downloading chroma-hnswlib-0.7.2.tar.gz (31 kB)\n",
            "  Installing build dependencies ... \u001b[?25l\u001b[?25hdone\n",
            "  Getting requirements to build wheel ... \u001b[?25l\u001b[?25hdone\n",
            "  Preparing metadata (pyproject.toml) ... \u001b[?25l\u001b[?25hdone\n",
            "Collecting fastapi<0.100.0,>=0.95.2 (from chromadb)\n",
            "  Downloading fastapi-0.99.1-py3-none-any.whl (58 kB)\n",
            "\u001b[2K     \u001b[90m━━━━━━━━━━━━━━━━━━━━━━━━━━━━━━━━━━━━━━━━\u001b[0m \u001b[32m58.4/58.4 kB\u001b[0m \u001b[31m5.8 MB/s\u001b[0m eta \u001b[36m0:00:00\u001b[0m\n",
            "\u001b[?25hCollecting uvicorn[standard]>=0.18.3 (from chromadb)\n",
            "  Downloading uvicorn-0.23.2-py3-none-any.whl (59 kB)\n",
            "\u001b[2K     \u001b[90m━━━━━━━━━━━━━━━━━━━━━━━━━━━━━━━━━━━━━━━━\u001b[0m \u001b[32m59.5/59.5 kB\u001b[0m \u001b[31m6.9 MB/s\u001b[0m eta \u001b[36m0:00:00\u001b[0m\n",
            "\u001b[?25hRequirement already satisfied: numpy>=1.21.6 in /usr/local/lib/python3.10/dist-packages (from chromadb) (1.23.5)\n",
            "Collecting posthog>=2.4.0 (from chromadb)\n",
            "  Downloading posthog-3.0.2-py2.py3-none-any.whl (37 kB)\n",
            "Requirement already satisfied: typing-extensions>=4.5.0 in /usr/local/lib/python3.10/dist-packages (from chromadb) (4.7.1)\n",
            "Collecting pulsar-client>=3.1.0 (from chromadb)\n",
            "  Downloading pulsar_client-3.2.0-cp310-cp310-manylinux_2_17_x86_64.manylinux2014_x86_64.whl (5.3 MB)\n",
            "\u001b[2K     \u001b[90m━━━━━━━━━━━━━━━━━━━━━━━━━━━━━━━━━━━━━━━━\u001b[0m \u001b[32m5.3/5.3 MB\u001b[0m \u001b[31m27.0 MB/s\u001b[0m eta \u001b[36m0:00:00\u001b[0m\n",
            "\u001b[?25hCollecting onnxruntime>=1.14.1 (from chromadb)\n",
            "  Downloading onnxruntime-1.15.1-cp310-cp310-manylinux_2_17_x86_64.manylinux2014_x86_64.whl (5.9 MB)\n",
            "\u001b[2K     \u001b[90m━━━━━━━━━━━━━━━━━━━━━━━━━━━━━━━━━━━━━━━━\u001b[0m \u001b[32m5.9/5.9 MB\u001b[0m \u001b[31m42.7 MB/s\u001b[0m eta \u001b[36m0:00:00\u001b[0m\n",
            "\u001b[?25hRequirement already satisfied: tokenizers>=0.13.2 in /usr/local/lib/python3.10/dist-packages (from chromadb) (0.13.3)\n",
            "Collecting pypika>=0.48.9 (from chromadb)\n",
            "  Downloading PyPika-0.48.9.tar.gz (67 kB)\n",
            "\u001b[2K     \u001b[90m━━━━━━━━━━━━━━━━━━━━━━━━━━━━━━━━━━━━━━━━\u001b[0m \u001b[32m67.3/67.3 kB\u001b[0m \u001b[31m8.5 MB/s\u001b[0m eta \u001b[36m0:00:00\u001b[0m\n",
            "\u001b[?25h  Installing build dependencies ... \u001b[?25l\u001b[?25hdone\n",
            "  Getting requirements to build wheel ... \u001b[?25l\u001b[?25hdone\n",
            "  Preparing metadata (pyproject.toml) ... \u001b[?25l\u001b[?25hdone\n",
            "Requirement already satisfied: tqdm>=4.65.0 in /usr/local/lib/python3.10/dist-packages (from chromadb) (4.66.1)\n",
            "Collecting overrides>=7.3.1 (from chromadb)\n",
            "  Downloading overrides-7.4.0-py3-none-any.whl (17 kB)\n",
            "Requirement already satisfied: importlib-resources in /usr/local/lib/python3.10/dist-packages (from chromadb) (6.0.1)\n",
            "Collecting bcrypt>=4.0.1 (from chromadb)\n",
            "  Downloading bcrypt-4.0.1-cp36-abi3-manylinux_2_28_x86_64.whl (593 kB)\n",
            "\u001b[2K     \u001b[90m━━━━━━━━━━━━━━━━━━━━━━━━━━━━━━━━━━━━━━\u001b[0m \u001b[32m593.7/593.7 kB\u001b[0m \u001b[31m48.4 MB/s\u001b[0m eta \u001b[36m0:00:00\u001b[0m\n",
            "\u001b[?25hCollecting starlette<0.28.0,>=0.27.0 (from fastapi<0.100.0,>=0.95.2->chromadb)\n",
            "  Downloading starlette-0.27.0-py3-none-any.whl (66 kB)\n",
            "\u001b[2K     \u001b[90m━━━━━━━━━━━━━━━━━━━━━━━━━━━━━━━━━━━━━━━━\u001b[0m \u001b[32m67.0/67.0 kB\u001b[0m \u001b[31m9.3 MB/s\u001b[0m eta \u001b[36m0:00:00\u001b[0m\n",
            "\u001b[?25hCollecting coloredlogs (from onnxruntime>=1.14.1->chromadb)\n",
            "  Downloading coloredlogs-15.0.1-py2.py3-none-any.whl (46 kB)\n",
            "\u001b[2K     \u001b[90m━━━━━━━━━━━━━━━━━━━━━━━━━━━━━━━━━━━━━━━━\u001b[0m \u001b[32m46.0/46.0 kB\u001b[0m \u001b[31m6.2 MB/s\u001b[0m eta \u001b[36m0:00:00\u001b[0m\n",
            "\u001b[?25hRequirement already satisfied: flatbuffers in /usr/local/lib/python3.10/dist-packages (from onnxruntime>=1.14.1->chromadb) (23.5.26)\n",
            "Requirement already satisfied: packaging in /usr/local/lib/python3.10/dist-packages (from onnxruntime>=1.14.1->chromadb) (23.1)\n",
            "Requirement already satisfied: protobuf in /usr/local/lib/python3.10/dist-packages (from onnxruntime>=1.14.1->chromadb) (3.20.3)\n",
            "Requirement already satisfied: sympy in /usr/local/lib/python3.10/dist-packages (from onnxruntime>=1.14.1->chromadb) (1.12)\n",
            "Requirement already satisfied: six>=1.5 in /usr/local/lib/python3.10/dist-packages (from posthog>=2.4.0->chromadb) (1.16.0)\n",
            "Collecting monotonic>=1.5 (from posthog>=2.4.0->chromadb)\n",
            "  Downloading monotonic-1.6-py2.py3-none-any.whl (8.2 kB)\n",
            "Collecting backoff>=1.10.0 (from posthog>=2.4.0->chromadb)\n",
            "  Downloading backoff-2.2.1-py3-none-any.whl (15 kB)\n",
            "Requirement already satisfied: python-dateutil>2.1 in /usr/local/lib/python3.10/dist-packages (from posthog>=2.4.0->chromadb) (2.8.2)\n",
            "Requirement already satisfied: certifi in /usr/local/lib/python3.10/dist-packages (from pulsar-client>=3.1.0->chromadb) (2023.7.22)\n",
            "Requirement already satisfied: charset-normalizer<4,>=2 in /usr/local/lib/python3.10/dist-packages (from requests>=2.28->chromadb) (3.2.0)\n",
            "Requirement already satisfied: idna<4,>=2.5 in /usr/local/lib/python3.10/dist-packages (from requests>=2.28->chromadb) (3.4)\n",
            "Requirement already satisfied: urllib3<3,>=1.21.1 in /usr/local/lib/python3.10/dist-packages (from requests>=2.28->chromadb) (2.0.4)\n",
            "Requirement already satisfied: click>=7.0 in /usr/local/lib/python3.10/dist-packages (from uvicorn[standard]>=0.18.3->chromadb) (8.1.7)\n",
            "Collecting h11>=0.8 (from uvicorn[standard]>=0.18.3->chromadb)\n",
            "  Downloading h11-0.14.0-py3-none-any.whl (58 kB)\n",
            "\u001b[2K     \u001b[90m━━━━━━━━━━━━━━━━━━━━━━━━━━━━━━━━━━━━━━━━\u001b[0m \u001b[32m58.3/58.3 kB\u001b[0m \u001b[31m7.9 MB/s\u001b[0m eta \u001b[36m0:00:00\u001b[0m\n",
            "\u001b[?25hCollecting httptools>=0.5.0 (from uvicorn[standard]>=0.18.3->chromadb)\n",
            "  Downloading httptools-0.6.0-cp310-cp310-manylinux_2_5_x86_64.manylinux1_x86_64.manylinux_2_17_x86_64.manylinux2014_x86_64.whl (428 kB)\n",
            "\u001b[2K     \u001b[90m━━━━━━━━━━━━━━━━━━━━━━━━━━━━━━━━━━━━━━\u001b[0m \u001b[32m428.8/428.8 kB\u001b[0m \u001b[31m36.6 MB/s\u001b[0m eta \u001b[36m0:00:00\u001b[0m\n",
            "\u001b[?25hCollecting python-dotenv>=0.13 (from uvicorn[standard]>=0.18.3->chromadb)\n",
            "  Downloading python_dotenv-1.0.0-py3-none-any.whl (19 kB)\n",
            "Requirement already satisfied: pyyaml>=5.1 in /usr/local/lib/python3.10/dist-packages (from uvicorn[standard]>=0.18.3->chromadb) (6.0.1)\n",
            "Collecting uvloop!=0.15.0,!=0.15.1,>=0.14.0 (from uvicorn[standard]>=0.18.3->chromadb)\n",
            "  Downloading uvloop-0.17.0-cp310-cp310-manylinux_2_17_x86_64.manylinux2014_x86_64.whl (4.1 MB)\n",
            "\u001b[2K     \u001b[90m━━━━━━━━━━━━━━━━━━━━━━━━━━━━━━━━━━━━━━━━\u001b[0m \u001b[32m4.1/4.1 MB\u001b[0m \u001b[31m53.7 MB/s\u001b[0m eta \u001b[36m0:00:00\u001b[0m\n",
            "\u001b[?25hCollecting watchfiles>=0.13 (from uvicorn[standard]>=0.18.3->chromadb)\n",
            "  Downloading watchfiles-0.20.0-cp37-abi3-manylinux_2_17_x86_64.manylinux2014_x86_64.whl (1.3 MB)\n",
            "\u001b[2K     \u001b[90m━━━━━━━━━━━━━━━━━━━━━━━━━━━━━━━━━━━━━━━━\u001b[0m \u001b[32m1.3/1.3 MB\u001b[0m \u001b[31m53.1 MB/s\u001b[0m eta \u001b[36m0:00:00\u001b[0m\n",
            "\u001b[?25hCollecting websockets>=10.4 (from uvicorn[standard]>=0.18.3->chromadb)\n",
            "  Downloading websockets-11.0.3-cp310-cp310-manylinux_2_5_x86_64.manylinux1_x86_64.manylinux_2_17_x86_64.manylinux2014_x86_64.whl (129 kB)\n",
            "\u001b[2K     \u001b[90m━━━━━━━━━━━━━━━━━━━━━━━━━━━━━━━━━━━━━━\u001b[0m \u001b[32m129.9/129.9 kB\u001b[0m \u001b[31m15.4 MB/s\u001b[0m eta \u001b[36m0:00:00\u001b[0m\n",
            "\u001b[?25hRequirement already satisfied: anyio<5,>=3.4.0 in /usr/local/lib/python3.10/dist-packages (from starlette<0.28.0,>=0.27.0->fastapi<0.100.0,>=0.95.2->chromadb) (3.7.1)\n",
            "Collecting humanfriendly>=9.1 (from coloredlogs->onnxruntime>=1.14.1->chromadb)\n",
            "  Downloading humanfriendly-10.0-py2.py3-none-any.whl (86 kB)\n",
            "\u001b[2K     \u001b[90m━━━━━━━━━━━━━━━━━━━━━━━━━━━━━━━━━━━━━━━━\u001b[0m \u001b[32m86.8/86.8 kB\u001b[0m \u001b[31m9.9 MB/s\u001b[0m eta \u001b[36m0:00:00\u001b[0m\n",
            "\u001b[?25hRequirement already satisfied: mpmath>=0.19 in /usr/local/lib/python3.10/dist-packages (from sympy->onnxruntime>=1.14.1->chromadb) (1.3.0)\n",
            "Requirement already satisfied: sniffio>=1.1 in /usr/local/lib/python3.10/dist-packages (from anyio<5,>=3.4.0->starlette<0.28.0,>=0.27.0->fastapi<0.100.0,>=0.95.2->chromadb) (1.3.0)\n",
            "Requirement already satisfied: exceptiongroup in /usr/local/lib/python3.10/dist-packages (from anyio<5,>=3.4.0->starlette<0.28.0,>=0.27.0->fastapi<0.100.0,>=0.95.2->chromadb) (1.1.3)\n",
            "Building wheels for collected packages: chroma-hnswlib, pypika\n",
            "  Building wheel for chroma-hnswlib (pyproject.toml) ... \u001b[?25l\u001b[?25hdone\n",
            "  Created wheel for chroma-hnswlib: filename=chroma_hnswlib-0.7.2-cp310-cp310-linux_x86_64.whl size=2287387 sha256=df5fc2f6cb837222dc205f4f8a444f83d79c7dbbf741fdae4f07c844de5b2703\n",
            "  Stored in directory: /root/.cache/pip/wheels/11/2b/0d/ee457f6782f75315bb5828d5c2dc5639d471afbd44a830b9dc\n",
            "  Building wheel for pypika (pyproject.toml) ... \u001b[?25l\u001b[?25hdone\n",
            "  Created wheel for pypika: filename=PyPika-0.48.9-py2.py3-none-any.whl size=53723 sha256=0b5485c15eda9d7435c5bb1a6391947830d97877352f525564497967e7331117\n",
            "  Stored in directory: /root/.cache/pip/wheels/e1/26/51/d0bffb3d2fd82256676d7ad3003faea3bd6dddc9577af665f4\n",
            "Successfully built chroma-hnswlib pypika\n",
            "Installing collected packages: pypika, monotonic, websockets, uvloop, python-dotenv, pydantic, pulsar-client, overrides, humanfriendly, httptools, h11, chroma-hnswlib, bcrypt, backoff, watchfiles, uvicorn, starlette, posthog, coloredlogs, onnxruntime, fastapi, chromadb\n",
            "  Attempting uninstall: pydantic\n",
            "    Found existing installation: pydantic 2.2.1\n",
            "    Uninstalling pydantic-2.2.1:\n",
            "      Successfully uninstalled pydantic-2.2.1\n",
            "Successfully installed backoff-2.2.1 bcrypt-4.0.1 chroma-hnswlib-0.7.2 chromadb-0.4.7 coloredlogs-15.0.1 fastapi-0.99.1 h11-0.14.0 httptools-0.6.0 humanfriendly-10.0 monotonic-1.6 onnxruntime-1.15.1 overrides-7.4.0 posthog-3.0.2 pulsar-client-3.2.0 pydantic-1.10.12 pypika-0.48.9 python-dotenv-1.0.0 starlette-0.27.0 uvicorn-0.23.2 uvloop-0.17.0 watchfiles-0.20.0 websockets-11.0.3\n",
            "Collecting cohere\n",
            "  Downloading cohere-4.21-py3-none-any.whl (45 kB)\n",
            "\u001b[2K     \u001b[90m━━━━━━━━━━━━━━━━━━━━━━━━━━━━━━━━━━━━━━━━\u001b[0m \u001b[32m45.6/45.6 kB\u001b[0m \u001b[31m1.3 MB/s\u001b[0m eta \u001b[36m0:00:00\u001b[0m\n",
            "\u001b[?25hRequirement already satisfied: aiohttp<4.0,>=3.0 in /usr/local/lib/python3.10/dist-packages (from cohere) (3.8.5)\n",
            "Requirement already satisfied: backoff<3.0,>=2.0 in /usr/local/lib/python3.10/dist-packages (from cohere) (2.2.1)\n",
            "Collecting fastavro==1.8.2 (from cohere)\n",
            "  Downloading fastavro-1.8.2-cp310-cp310-manylinux_2_17_x86_64.manylinux2014_x86_64.whl (2.7 MB)\n",
            "\u001b[2K     \u001b[90m━━━━━━━━━━━━━━━━━━━━━━━━━━━━━━━━━━━━━━━━\u001b[0m \u001b[32m2.7/2.7 MB\u001b[0m \u001b[31m30.5 MB/s\u001b[0m eta \u001b[36m0:00:00\u001b[0m\n",
            "\u001b[?25hRequirement already satisfied: importlib_metadata<7.0,>=6.0 in /usr/local/lib/python3.10/dist-packages (from cohere) (6.8.0)\n",
            "Requirement already satisfied: requests<3.0.0,>=2.25.0 in /usr/local/lib/python3.10/dist-packages (from cohere) (2.31.0)\n",
            "Requirement already satisfied: urllib3<3,>=1.26 in /usr/local/lib/python3.10/dist-packages (from cohere) (2.0.4)\n",
            "Requirement already satisfied: attrs>=17.3.0 in /usr/local/lib/python3.10/dist-packages (from aiohttp<4.0,>=3.0->cohere) (23.1.0)\n",
            "Requirement already satisfied: charset-normalizer<4.0,>=2.0 in /usr/local/lib/python3.10/dist-packages (from aiohttp<4.0,>=3.0->cohere) (3.2.0)\n",
            "Requirement already satisfied: multidict<7.0,>=4.5 in /usr/local/lib/python3.10/dist-packages (from aiohttp<4.0,>=3.0->cohere) (6.0.4)\n",
            "Requirement already satisfied: async-timeout<5.0,>=4.0.0a3 in /usr/local/lib/python3.10/dist-packages (from aiohttp<4.0,>=3.0->cohere) (4.0.3)\n",
            "Requirement already satisfied: yarl<2.0,>=1.0 in /usr/local/lib/python3.10/dist-packages (from aiohttp<4.0,>=3.0->cohere) (1.9.2)\n",
            "Requirement already satisfied: frozenlist>=1.1.1 in /usr/local/lib/python3.10/dist-packages (from aiohttp<4.0,>=3.0->cohere) (1.4.0)\n",
            "Requirement already satisfied: aiosignal>=1.1.2 in /usr/local/lib/python3.10/dist-packages (from aiohttp<4.0,>=3.0->cohere) (1.3.1)\n",
            "Requirement already satisfied: zipp>=0.5 in /usr/local/lib/python3.10/dist-packages (from importlib_metadata<7.0,>=6.0->cohere) (3.16.2)\n",
            "Requirement already satisfied: idna<4,>=2.5 in /usr/local/lib/python3.10/dist-packages (from requests<3.0.0,>=2.25.0->cohere) (3.4)\n",
            "Requirement already satisfied: certifi>=2017.4.17 in /usr/local/lib/python3.10/dist-packages (from requests<3.0.0,>=2.25.0->cohere) (2023.7.22)\n",
            "Installing collected packages: fastavro, cohere\n",
            "Successfully installed cohere-4.21 fastavro-1.8.2\n",
            "Collecting openai\n",
            "  Downloading openai-0.27.9-py3-none-any.whl (75 kB)\n",
            "\u001b[2K     \u001b[90m━━━━━━━━━━━━━━━━━━━━━━━━━━━━━━━━━━━━━━━━\u001b[0m \u001b[32m75.5/75.5 kB\u001b[0m \u001b[31m2.0 MB/s\u001b[0m eta \u001b[36m0:00:00\u001b[0m\n",
            "\u001b[?25hRequirement already satisfied: requests>=2.20 in /usr/local/lib/python3.10/dist-packages (from openai) (2.31.0)\n",
            "Requirement already satisfied: tqdm in /usr/local/lib/python3.10/dist-packages (from openai) (4.66.1)\n",
            "Requirement already satisfied: aiohttp in /usr/local/lib/python3.10/dist-packages (from openai) (3.8.5)\n",
            "Requirement already satisfied: charset-normalizer<4,>=2 in /usr/local/lib/python3.10/dist-packages (from requests>=2.20->openai) (3.2.0)\n",
            "Requirement already satisfied: idna<4,>=2.5 in /usr/local/lib/python3.10/dist-packages (from requests>=2.20->openai) (3.4)\n",
            "Requirement already satisfied: urllib3<3,>=1.21.1 in /usr/local/lib/python3.10/dist-packages (from requests>=2.20->openai) (2.0.4)\n",
            "Requirement already satisfied: certifi>=2017.4.17 in /usr/local/lib/python3.10/dist-packages (from requests>=2.20->openai) (2023.7.22)\n",
            "Requirement already satisfied: attrs>=17.3.0 in /usr/local/lib/python3.10/dist-packages (from aiohttp->openai) (23.1.0)\n",
            "Requirement already satisfied: multidict<7.0,>=4.5 in /usr/local/lib/python3.10/dist-packages (from aiohttp->openai) (6.0.4)\n",
            "Requirement already satisfied: async-timeout<5.0,>=4.0.0a3 in /usr/local/lib/python3.10/dist-packages (from aiohttp->openai) (4.0.3)\n",
            "Requirement already satisfied: yarl<2.0,>=1.0 in /usr/local/lib/python3.10/dist-packages (from aiohttp->openai) (1.9.2)\n",
            "Requirement already satisfied: frozenlist>=1.1.1 in /usr/local/lib/python3.10/dist-packages (from aiohttp->openai) (1.4.0)\n",
            "Requirement already satisfied: aiosignal>=1.1.2 in /usr/local/lib/python3.10/dist-packages (from aiohttp->openai) (1.3.1)\n",
            "Installing collected packages: openai\n",
            "Successfully installed openai-0.27.9\n",
            "Collecting litellm\n",
            "  Downloading litellm-0.1.492-py3-none-any.whl (72 kB)\n",
            "\u001b[2K     \u001b[90m━━━━━━━━━━━━━━━━━━━━━━━━━━━━━━━━━━━━━━━━\u001b[0m \u001b[32m72.8/72.8 kB\u001b[0m \u001b[31m1.9 MB/s\u001b[0m eta \u001b[36m0:00:00\u001b[0m\n",
            "\u001b[?25hRequirement already satisfied: importlib-metadata<7.0.0,>=6.8.0 in /usr/local/lib/python3.10/dist-packages (from litellm) (6.8.0)\n",
            "Requirement already satisfied: openai<0.28.0,>=0.27.8 in /usr/local/lib/python3.10/dist-packages (from litellm) (0.27.9)\n",
            "Requirement already satisfied: python-dotenv<2.0.0,>=1.0.0 in /usr/local/lib/python3.10/dist-packages (from litellm) (1.0.0)\n",
            "Requirement already satisfied: tiktoken<0.5.0,>=0.4.0 in /usr/local/lib/python3.10/dist-packages (from litellm) (0.4.0)\n",
            "Requirement already satisfied: zipp>=0.5 in /usr/local/lib/python3.10/dist-packages (from importlib-metadata<7.0.0,>=6.8.0->litellm) (3.16.2)\n",
            "Requirement already satisfied: requests>=2.20 in /usr/local/lib/python3.10/dist-packages (from openai<0.28.0,>=0.27.8->litellm) (2.31.0)\n",
            "Requirement already satisfied: tqdm in /usr/local/lib/python3.10/dist-packages (from openai<0.28.0,>=0.27.8->litellm) (4.66.1)\n",
            "Requirement already satisfied: aiohttp in /usr/local/lib/python3.10/dist-packages (from openai<0.28.0,>=0.27.8->litellm) (3.8.5)\n",
            "Requirement already satisfied: regex>=2022.1.18 in /usr/local/lib/python3.10/dist-packages (from tiktoken<0.5.0,>=0.4.0->litellm) (2023.6.3)\n",
            "Requirement already satisfied: charset-normalizer<4,>=2 in /usr/local/lib/python3.10/dist-packages (from requests>=2.20->openai<0.28.0,>=0.27.8->litellm) (3.2.0)\n",
            "Requirement already satisfied: idna<4,>=2.5 in /usr/local/lib/python3.10/dist-packages (from requests>=2.20->openai<0.28.0,>=0.27.8->litellm) (3.4)\n",
            "Requirement already satisfied: urllib3<3,>=1.21.1 in /usr/local/lib/python3.10/dist-packages (from requests>=2.20->openai<0.28.0,>=0.27.8->litellm) (2.0.4)\n",
            "Requirement already satisfied: certifi>=2017.4.17 in /usr/local/lib/python3.10/dist-packages (from requests>=2.20->openai<0.28.0,>=0.27.8->litellm) (2023.7.22)\n",
            "Requirement already satisfied: attrs>=17.3.0 in /usr/local/lib/python3.10/dist-packages (from aiohttp->openai<0.28.0,>=0.27.8->litellm) (23.1.0)\n",
            "Requirement already satisfied: multidict<7.0,>=4.5 in /usr/local/lib/python3.10/dist-packages (from aiohttp->openai<0.28.0,>=0.27.8->litellm) (6.0.4)\n",
            "Requirement already satisfied: async-timeout<5.0,>=4.0.0a3 in /usr/local/lib/python3.10/dist-packages (from aiohttp->openai<0.28.0,>=0.27.8->litellm) (4.0.3)\n",
            "Requirement already satisfied: yarl<2.0,>=1.0 in /usr/local/lib/python3.10/dist-packages (from aiohttp->openai<0.28.0,>=0.27.8->litellm) (1.9.2)\n",
            "Requirement already satisfied: frozenlist>=1.1.1 in /usr/local/lib/python3.10/dist-packages (from aiohttp->openai<0.28.0,>=0.27.8->litellm) (1.4.0)\n",
            "Requirement already satisfied: aiosignal>=1.1.2 in /usr/local/lib/python3.10/dist-packages (from aiohttp->openai<0.28.0,>=0.27.8->litellm) (1.3.1)\n",
            "Installing collected packages: litellm\n",
            "Successfully installed litellm-0.1.492\n",
            "Collecting rank_bm25\n",
            "  Downloading rank_bm25-0.2.2-py3-none-any.whl (8.6 kB)\n",
            "Requirement already satisfied: numpy in /usr/local/lib/python3.10/dist-packages (from rank_bm25) (1.23.5)\n",
            "Installing collected packages: rank_bm25\n",
            "Successfully installed rank_bm25-0.2.2\n",
            "Requirement already satisfied: google-api-python-client in /usr/local/lib/python3.10/dist-packages (2.84.0)\n",
            "Requirement already satisfied: httplib2<1dev,>=0.15.0 in /usr/local/lib/python3.10/dist-packages (from google-api-python-client) (0.22.0)\n",
            "Requirement already satisfied: google-auth<3.0.0dev,>=1.19.0 in /usr/local/lib/python3.10/dist-packages (from google-api-python-client) (2.17.3)\n",
            "Requirement already satisfied: google-auth-httplib2>=0.1.0 in /usr/local/lib/python3.10/dist-packages (from google-api-python-client) (0.1.0)\n",
            "Requirement already satisfied: google-api-core!=2.0.*,!=2.1.*,!=2.2.*,!=2.3.0,<3.0.0dev,>=1.31.5 in /usr/local/lib/python3.10/dist-packages (from google-api-python-client) (2.11.1)\n",
            "Requirement already satisfied: uritemplate<5,>=3.0.1 in /usr/local/lib/python3.10/dist-packages (from google-api-python-client) (4.1.1)\n",
            "Requirement already satisfied: googleapis-common-protos<2.0.dev0,>=1.56.2 in /usr/local/lib/python3.10/dist-packages (from google-api-core!=2.0.*,!=2.1.*,!=2.2.*,!=2.3.0,<3.0.0dev,>=1.31.5->google-api-python-client) (1.60.0)\n",
            "Requirement already satisfied: protobuf!=3.20.0,!=3.20.1,!=4.21.0,!=4.21.1,!=4.21.2,!=4.21.3,!=4.21.4,!=4.21.5,<5.0.0.dev0,>=3.19.5 in /usr/local/lib/python3.10/dist-packages (from google-api-core!=2.0.*,!=2.1.*,!=2.2.*,!=2.3.0,<3.0.0dev,>=1.31.5->google-api-python-client) (3.20.3)\n",
            "Requirement already satisfied: requests<3.0.0.dev0,>=2.18.0 in /usr/local/lib/python3.10/dist-packages (from google-api-core!=2.0.*,!=2.1.*,!=2.2.*,!=2.3.0,<3.0.0dev,>=1.31.5->google-api-python-client) (2.31.0)\n",
            "Requirement already satisfied: cachetools<6.0,>=2.0.0 in /usr/local/lib/python3.10/dist-packages (from google-auth<3.0.0dev,>=1.19.0->google-api-python-client) (5.3.1)\n",
            "Requirement already satisfied: pyasn1-modules>=0.2.1 in /usr/local/lib/python3.10/dist-packages (from google-auth<3.0.0dev,>=1.19.0->google-api-python-client) (0.3.0)\n",
            "Requirement already satisfied: six>=1.9.0 in /usr/local/lib/python3.10/dist-packages (from google-auth<3.0.0dev,>=1.19.0->google-api-python-client) (1.16.0)\n",
            "Requirement already satisfied: rsa<5,>=3.1.4 in /usr/local/lib/python3.10/dist-packages (from google-auth<3.0.0dev,>=1.19.0->google-api-python-client) (4.9)\n",
            "Requirement already satisfied: pyparsing!=3.0.0,!=3.0.1,!=3.0.2,!=3.0.3,<4,>=2.4.2 in /usr/local/lib/python3.10/dist-packages (from httplib2<1dev,>=0.15.0->google-api-python-client) (3.1.1)\n",
            "Requirement already satisfied: pyasn1<0.6.0,>=0.4.6 in /usr/local/lib/python3.10/dist-packages (from pyasn1-modules>=0.2.1->google-auth<3.0.0dev,>=1.19.0->google-api-python-client) (0.5.0)\n",
            "Requirement already satisfied: charset-normalizer<4,>=2 in /usr/local/lib/python3.10/dist-packages (from requests<3.0.0.dev0,>=2.18.0->google-api-core!=2.0.*,!=2.1.*,!=2.2.*,!=2.3.0,<3.0.0dev,>=1.31.5->google-api-python-client) (3.2.0)\n",
            "Requirement already satisfied: idna<4,>=2.5 in /usr/local/lib/python3.10/dist-packages (from requests<3.0.0.dev0,>=2.18.0->google-api-core!=2.0.*,!=2.1.*,!=2.2.*,!=2.3.0,<3.0.0dev,>=1.31.5->google-api-python-client) (3.4)\n",
            "Requirement already satisfied: urllib3<3,>=1.21.1 in /usr/local/lib/python3.10/dist-packages (from requests<3.0.0.dev0,>=2.18.0->google-api-core!=2.0.*,!=2.1.*,!=2.2.*,!=2.3.0,<3.0.0dev,>=1.31.5->google-api-python-client) (2.0.4)\n",
            "Requirement already satisfied: certifi>=2017.4.17 in /usr/local/lib/python3.10/dist-packages (from requests<3.0.0.dev0,>=2.18.0->google-api-core!=2.0.*,!=2.1.*,!=2.2.*,!=2.3.0,<3.0.0dev,>=1.31.5->google-api-python-client) (2023.7.22)\n",
            "Requirement already satisfied: nest-asyncio in /usr/local/lib/python3.10/dist-packages (1.5.7)\n",
            "Collecting html2text\n",
            "  Downloading html2text-2020.1.16-py3-none-any.whl (32 kB)\n",
            "Installing collected packages: html2text\n",
            "Successfully installed html2text-2020.1.16\n"
          ]
        }
      ]
    },
    {
      "cell_type": "markdown",
      "source": [
        "# DATA"
      ],
      "metadata": {
        "id": "OjBrceNL1OZ9"
      }
    },
    {
      "cell_type": "markdown",
      "source": [
        "> We have text file which consists of paragraphs related to Indian Constitution for e.g., Articles, Schedules, etc.\n",
        "\n",
        ">"
      ],
      "metadata": {
        "id": "9Alt6gid1UoG"
      }
    },
    {
      "cell_type": "code",
      "source": [
        "# data path\n",
        "dir_path = \"/content/drive/MyDrive/Project_CILLM/db/\"\n",
        "text_file_path = \"/content/drive/MyDrive/Project_CILLM/db/file_context_corpus_cleaned_extended_part3.txt\"\n",
        "text_file_path = \"/content/drive/MyDrive/Project_CILLM/colab_project/Constitution-Xpert using OpenAI Embeddings (1)/file_context_corpus_cleaned_extended_part3.txt\"\n",
        "pdf_file_path = \"/content/drive/MyDrive/Project_CILLM/db/file_context_corpus_cleaned_extended_part3.pdf\"\n"
      ],
      "metadata": {
        "id": "5TlhFoKt5D3V"
      },
      "execution_count": 2,
      "outputs": []
    },
    {
      "cell_type": "code",
      "source": [
        "# utility function to load api keys from json file\n",
        "import json\n",
        "path_to_keys = \"/content/drive/MyDrive/Project_CILLM/Keys/keys.json\"\n",
        "def return_api_key(name):\n",
        "    with open(path_to_keys, 'r') as f:\n",
        "        json_data = json.load(f)\n",
        "        return json_data[name]"
      ],
      "metadata": {
        "id": "E4NvkzreAul5"
      },
      "execution_count": 3,
      "outputs": []
    },
    {
      "cell_type": "markdown",
      "source": [
        "# RETRIEVAL\n"
      ],
      "metadata": {
        "id": "lJrYlQmfbc3o"
      }
    },
    {
      "cell_type": "markdown",
      "source": [
        "## [Document loaders](https://python.langchain.com/docs/modules/data_connection/document_loaders/)"
      ],
      "metadata": {
        "id": "pmjql4Pn6E4T"
      }
    },
    {
      "cell_type": "code",
      "source": [
        "# Text Loaders\n",
        "from langchain.document_loaders import TextLoader\n",
        "\n",
        "# PDF Loaders (try which suits us best)\n",
        "from langchain.document_loaders import PyPDFLoader\n",
        "from langchain.document_loaders import PyPDFDirectoryLoader\n",
        "# from langchain.document_loaders import MathpixPDFLoader\n",
        "from langchain.document_loaders import UnstructuredPDFLoader\n",
        "from langchain.document_loaders import PDFMinerPDFasHTMLLoader\n",
        "from langchain.document_loaders import AmazonTextractPDFLoader\n",
        "from langchain.document_loaders import OnlinePDFLoader\n",
        "\n",
        "loader_text = TextLoader(text_file_path)\n",
        "loader_pdf = PyPDFLoader(pdf_file_path)"
      ],
      "metadata": {
        "id": "wZdrSHYF6LPX"
      },
      "execution_count": 4,
      "outputs": []
    },
    {
      "cell_type": "code",
      "source": [
        "## utility function for document loaders information\n",
        "\n",
        "def loaded_doc_info(loader, show_loaded_data=False):\n",
        "    data = loader.load()\n",
        "    print(\"Type of the loader:\", type(loader))\n",
        "    print(\"Length of the data:\", len(data))\n",
        "    if show_loaded_data:\n",
        "        print(data)\n",
        "    return data\n",
        "\n",
        "\n"
      ],
      "metadata": {
        "id": "xyATwh2GB2tY"
      },
      "execution_count": 5,
      "outputs": []
    },
    {
      "cell_type": "code",
      "source": [
        "# loaded_doc_info(loader_text, show_loaded_data=True)\n",
        "text_data = loaded_doc_info(loader_text)"
      ],
      "metadata": {
        "colab": {
          "base_uri": "https://localhost:8080/"
        },
        "id": "3uU64OAz_3YW",
        "outputId": "80397869-30fe-47d3-b244-3e397c9a2785"
      },
      "execution_count": 6,
      "outputs": [
        {
          "output_type": "stream",
          "name": "stdout",
          "text": [
            "Type of the loader: <class 'langchain.document_loaders.text.TextLoader'>\n",
            "Length of the data: 1\n"
          ]
        }
      ]
    },
    {
      "cell_type": "code",
      "source": [
        "pdf_data = loaded_doc_info(loader_pdf)"
      ],
      "metadata": {
        "colab": {
          "base_uri": "https://localhost:8080/"
        },
        "id": "EalxDyqJHV8h",
        "outputId": "c794ac56-c40a-4338-c70f-33285d36a2d1"
      },
      "execution_count": 7,
      "outputs": [
        {
          "output_type": "stream",
          "name": "stdout",
          "text": [
            "Type of the loader: <class 'langchain.document_loaders.pdf.PyPDFLoader'>\n",
            "Length of the data: 178\n"
          ]
        }
      ]
    },
    {
      "cell_type": "code",
      "source": [
        "# # checking different pdf loader\n",
        "# loader = PDFMinerPDFasHTMLLoader(pdf_file_path)\n",
        "# data = loaded_doc_info(loader, True)"
      ],
      "metadata": {
        "id": "LvAi8Ws9AMHK"
      },
      "execution_count": null,
      "outputs": []
    },
    {
      "cell_type": "markdown",
      "source": [
        "## [Document Transformers](https://python.langchain.com/docs/modules/data_connection/document_transformers/)"
      ],
      "metadata": {
        "id": "QnoPoGXYFIMP"
      }
    },
    {
      "cell_type": "code",
      "source": [
        "from langchain.text_splitter import CharacterTextSplitter\n",
        "from langchain.text_splitter import RecursiveCharacterTextSplitter\n",
        "from langchain.text_splitter import MarkdownHeaderTextSplitter  # we can split by parts in constitution using this splitter and add metadata for better search\n",
        "                                                                # first we have to add headers (for e.g., # or ##)\n",
        "\n",
        "# # Split by tokens\n",
        "# from langchain.text_splitter import TokenTextSplitter\n",
        "# from langchain.text_splitter import SpacyTextSplitter\n",
        "# from langchain.text_splitter import NLTKTextSplitter\n",
        "\n",
        "# !pip install tiktoken\n",
        "# good for OpenAI Models\n",
        "# text_splitter = CharacterTextSplitter.from_tiktoken_encoder(\n",
        "#     chunk_size=100, chunk_overlap=0\n",
        "# )\n",
        "\n",
        "# # Sentence Transformers token split\n",
        "# from langchain.text_splitter import SentenceTransformersTokenTextSplitter # for a particular sentence transformer\n",
        "\n",
        "# # Hugging face tokenizers\n",
        "# from transformers import GPT2TokenizerFast\n",
        "# tokenizer = GPT2TokenizerFast.from_pretrained(\"gpt2\")\n",
        "# text_splitter = CharacterTextSplitter.from_huggingface_tokenizer(\n",
        "#     tokenizer, chunk_size=100, chunk_overlap=0\n",
        "# )\n",
        "# texts = text_splitter.split_text(text)\n"
      ],
      "metadata": {
        "id": "Fmp1TBAPG6JD"
      },
      "execution_count": 8,
      "outputs": []
    },
    {
      "cell_type": "code",
      "source": [
        "def split_data(loader, splitter):\n",
        "    docs = loader.load_and_split(splitter)\n",
        "    print(\"Loader Type:\", type(loader))\n",
        "    print(\"Splitter Type:\", type(splitter))\n",
        "    print(\"Length of splitted data:\", len(docs))\n",
        "    return docs\n",
        "\n",
        "\n"
      ],
      "metadata": {
        "id": "zHGMmb19PywQ"
      },
      "execution_count": 9,
      "outputs": []
    },
    {
      "cell_type": "code",
      "source": [
        "# using openai's tiktoken for splitting data\n",
        "text_splitter = CharacterTextSplitter.from_tiktoken_encoder()\n",
        "docs_text = split_data(loader_text, text_splitter)\n",
        "docs_pdf = split_data(loader_pdf, text_splitter)"
      ],
      "metadata": {
        "colab": {
          "base_uri": "https://localhost:8080/"
        },
        "id": "pgKj3hfnEjOk",
        "outputId": "9dde4af0-d32b-479c-fba4-7bf12cdebc3b"
      },
      "execution_count": null,
      "outputs": [
        {
          "output_type": "stream",
          "name": "stdout",
          "text": [
            "Loader Type: <class 'langchain.document_loaders.text.TextLoader'>\n",
            "Splitter Type: <class 'langchain.text_splitter.CharacterTextSplitter'>\n",
            "Length of splitted data: 31\n",
            "Loader Type: <class 'langchain.document_loaders.pdf.PyPDFLoader'>\n",
            "Splitter Type: <class 'langchain.text_splitter.CharacterTextSplitter'>\n",
            "Length of splitted data: 178\n"
          ]
        }
      ]
    },
    {
      "cell_type": "code",
      "source": [
        "# using RecursiveCharacterTextSplitter\n",
        "recur_splitter = RecursiveCharacterTextSplitter()\n",
        "docs_text = split_data(loader_text, recur_splitter)\n",
        "docs_pdf = split_data(loader_pdf, recur_splitter)"
      ],
      "metadata": {
        "colab": {
          "base_uri": "https://localhost:8080/"
        },
        "id": "r_dlvO-5RueP",
        "outputId": "8a1449de-6ff1-4faa-9421-9556bca1e0e0"
      },
      "execution_count": null,
      "outputs": [
        {
          "output_type": "stream",
          "name": "stdout",
          "text": [
            "Loader Type: <class 'langchain.document_loaders.text.TextLoader'>\n",
            "Splitter Type: <class 'langchain.text_splitter.RecursiveCharacterTextSplitter'>\n",
            "Length of splitted data: 156\n",
            "Loader Type: <class 'langchain.document_loaders.pdf.PyPDFLoader'>\n",
            "Splitter Type: <class 'langchain.text_splitter.RecursiveCharacterTextSplitter'>\n",
            "Length of splitted data: 178\n"
          ]
        }
      ]
    },
    {
      "cell_type": "code",
      "source": [
        "docs_pdf[0]"
      ],
      "metadata": {
        "id": "D1Gdxg-cR0Oi"
      },
      "execution_count": null,
      "outputs": []
    },
    {
      "cell_type": "code",
      "source": [
        "char_splitter = CharacterTextSplitter(\n",
        "    separator = \"\\n\\n\",\n",
        "    # chunk_size = 1000,\n",
        "    # chunk_overlap  = 200,\n",
        "    # length_function = len,\n",
        "    is_separator_regex = False,\n",
        ")\n",
        "\n",
        "# char_splitter = CharacterTextSplitter(chunk_size=2000, chunk_overlap=500)\n",
        "\n",
        "docs_text = split_data(loader_text, char_splitter)\n",
        "docs_pdf = split_data(loader_pdf, char_splitter)\n"
      ],
      "metadata": {
        "colab": {
          "base_uri": "https://localhost:8080/"
        },
        "id": "VROD2RVCT1q7",
        "outputId": "ff20e771-c583-4dfd-b0d0-267f74be4e86"
      },
      "execution_count": 10,
      "outputs": [
        {
          "output_type": "stream",
          "name": "stdout",
          "text": [
            "Loader Type: <class 'langchain.document_loaders.text.TextLoader'>\n",
            "Splitter Type: <class 'langchain.text_splitter.CharacterTextSplitter'>\n",
            "Length of splitted data: 156\n",
            "Loader Type: <class 'langchain.document_loaders.pdf.PyPDFLoader'>\n",
            "Splitter Type: <class 'langchain.text_splitter.CharacterTextSplitter'>\n",
            "Length of splitted data: 178\n"
          ]
        }
      ]
    },
    {
      "cell_type": "code",
      "source": [
        "docs = [doc.page_content for doc in docs_text]"
      ],
      "metadata": {
        "id": "HBWNbzN4sD49"
      },
      "execution_count": 11,
      "outputs": []
    },
    {
      "cell_type": "code",
      "source": [
        "\n"
      ],
      "metadata": {
        "id": "XmSCpOYeWafq"
      },
      "execution_count": null,
      "outputs": []
    },
    {
      "cell_type": "code",
      "source": [
        "# docs_pdf[0].page_content"
      ],
      "metadata": {
        "id": "OvSaSxsDU-Ru"
      },
      "execution_count": null,
      "outputs": []
    },
    {
      "cell_type": "code",
      "source": [
        "# print(docs_pdf[0].page_content.rstrip('\\n'))"
      ],
      "metadata": {
        "id": "zilnW8L3UeZt"
      },
      "execution_count": null,
      "outputs": []
    },
    {
      "cell_type": "markdown",
      "source": [
        "## Text Embedding models and chromadb Vectorstore\n",
        "[MTEB blog](https://huggingface.co/blog/mteb) <br>\n",
        "[MTEB](https://huggingface.co/spaces/mteb/leaderboard)"
      ],
      "metadata": {
        "id": "ER6i0-85UqwL"
      }
    },
    {
      "cell_type": "markdown",
      "source": [
        "### Chromadb VectorStore\n"
      ],
      "metadata": {
        "id": "1WT99JNfyAq3"
      }
    },
    {
      "cell_type": "code",
      "source": [
        "from langchain.vectorstores import Chroma\n"
      ],
      "metadata": {
        "id": "xRsZ-4_VyHfQ"
      },
      "execution_count": 12,
      "outputs": []
    },
    {
      "cell_type": "code",
      "source": [
        "# utility function for embeddings info\n",
        "\n",
        "def embeddings_info(embeddings):\n",
        "    print(\"Total Embeddings:\", len(embeddings))\n",
        "    print(\"Dimension:\", len(embeddings[0]))\n"
      ],
      "metadata": {
        "id": "VLKfVutytshL"
      },
      "execution_count": 13,
      "outputs": []
    },
    {
      "cell_type": "code",
      "source": [
        "### Problems with Chroma\n",
        "### https://python.langchain.com/docs/integrations/vectorstores/chroma#basic-example-including-saving-to-disk\n",
        "## Caching Embeddings using LocalFileStore\n",
        "# from langchain.storage import LocalFileStore\n",
        "# from langchain.embeddings import CacheBackedEmbeddings # Embeddings can be stored or temporarily cached to avoid needing to recompute them.\n",
        "# import os\n",
        "\n",
        "# utility function for creating embeddings using chromdb\n",
        "# def create_cached_embeddings(docs, embedding_model, model_name, fs):\n",
        "#     # print(list(fs.yield_keys()))\n",
        "#     # cached_embedder = CacheBackedEmbeddings.from_bytes_store(\n",
        "#     #     embedding_model, fs, namespace=model_name\n",
        "#     # )\n",
        "#     ### Create the vectorstore\n",
        "#     # db = Chroma.from_documents(docs, cached_embedder)\n",
        "#     db = Chroma.from_documents(docs, embedding_model)\n",
        "#     return db\n",
        "\n",
        "# def create_embeddings(docs, embedding_model):\n",
        "#     return Chroma.from_documents(docs, embedding_model)\n",
        "\n",
        "\n",
        "# utility function for similarity search\n",
        "def return_similar_docs(db, query, k=4, show_docs=False):\n",
        "    docs = db.similarity_search_with_relevance_scores(query, k=k)\n",
        "    docs = sorted(docs, key=lambda x: -x[1])\n",
        "    if show_docs:\n",
        "        for doc in docs:\n",
        "            print(\"Text:\", doc[0].page_content)\n",
        "            print(\"Relevance Score:\", doc[1])\n",
        "            print(\"--\"*50)\n",
        "            print(\"--\"*50)\n",
        "    return docs\n",
        "\n"
      ],
      "metadata": {
        "id": "zMLnXd4x3KOz"
      },
      "execution_count": 14,
      "outputs": []
    },
    {
      "cell_type": "markdown",
      "source": [
        "### BGE Hugging face embeddings"
      ],
      "metadata": {
        "id": "HUNJ2TN-jhkH"
      }
    },
    {
      "cell_type": "code",
      "source": [
        "from langchain.embeddings import HuggingFaceBgeEmbeddings\n",
        "\n",
        "model_name = \"BAAI/bge-large-en\"\n",
        "model_kwargs = {'device': 'cuda'}\n",
        "encode_kwargs = {'normalize_embeddings': True}\n",
        "hf = HuggingFaceBgeEmbeddings(\n",
        "    model_name=model_name,\n",
        "    model_kwargs=model_kwargs,\n",
        "    encode_kwargs=encode_kwargs\n",
        ")"
      ],
      "metadata": {
        "id": "LOtmP_kUmaq6"
      },
      "execution_count": 16,
      "outputs": []
    },
    {
      "cell_type": "code",
      "source": [
        "# embeddings = hf.embed_documents(docs)\n",
        "# embeddings_info(embeddings)\n",
        "# sentence1 = \"Tell me about article 23\"\n",
        "# embedding1 = hf.embed_query(sentence1)\n",
        "# import numpy as np\n",
        "\n",
        "# dot_product = np.dot(embeddings, embedding1)\n",
        "# dot_product\n",
        "# np.argmax()"
      ],
      "metadata": {
        "id": "YUX28y8VpMN6"
      },
      "execution_count": null,
      "outputs": []
    },
    {
      "cell_type": "code",
      "source": [
        "hf_db = Chroma.from_documents(docs_text, hf, persist_directory=\"./chroma_db_hf\")\n",
        "# hf_db = Chroma(persist_directory=\"./chroma_db_hf\", embedding_function=hf)"
      ],
      "metadata": {
        "id": "jzCQlsvX0FVi"
      },
      "execution_count": 18,
      "outputs": []
    },
    {
      "cell_type": "code",
      "source": [
        "### check similar documents\n",
        "query = \"What is writs in constitution?\"\n",
        "retrived_docs = return_similar_docs(hf_db, query, show_docs=False)"
      ],
      "metadata": {
        "id": "FahmaWQ0uOdA"
      },
      "execution_count": 19,
      "outputs": []
    },
    {
      "cell_type": "markdown",
      "source": [
        "### Cohere Embeddings"
      ],
      "metadata": {
        "id": "j7DDvAbVwDLc"
      }
    },
    {
      "cell_type": "code",
      "source": [
        "COHERE_API_KEY = return_api_key(\"COHERE_API_KEY\")"
      ],
      "metadata": {
        "id": "t9yI8u4TCWTl"
      },
      "execution_count": 20,
      "outputs": []
    },
    {
      "cell_type": "code",
      "source": [
        "from langchain.embeddings import CohereEmbeddings\n",
        "cohr = CohereEmbeddings(\n",
        "    model=\"embed-english-v2.0\",\n",
        "    cohere_api_key=COHERE_API_KEY\n",
        "    )\n"
      ],
      "metadata": {
        "id": "lXyxhF_CwT9Z"
      },
      "execution_count": 21,
      "outputs": []
    },
    {
      "cell_type": "code",
      "source": [
        "# db_cohr = create_embeddings(docs_text, cohr)\n",
        "cohr_db = Chroma.from_documents(docs_text, cohr, persist_directory=\"./chroma_db_cohr\")\n",
        "# cohr_db = Chroma(persist_directory=\"./chroma_db_cohr\", embedding_function=cohr)"
      ],
      "metadata": {
        "id": "B3D2GhCdwo6B"
      },
      "execution_count": 22,
      "outputs": []
    },
    {
      "cell_type": "code",
      "source": [
        "### check similar documents\n",
        "query = \"What is writs in constitution?\"\n",
        "retrieved_docs = return_similar_docs(cohr_db, query, show_docs=False)"
      ],
      "metadata": {
        "id": "fqZWPr-zGWiT",
        "colab": {
          "base_uri": "https://localhost:8080/"
        },
        "outputId": "98121274-03fd-4f2a-b7ac-55316f94fb9e"
      },
      "execution_count": 23,
      "outputs": [
        {
          "output_type": "stream",
          "name": "stderr",
          "text": [
            "/usr/local/lib/python3.10/dist-packages/langchain/vectorstores/base.py:254: UserWarning: Relevance scores must be between 0 and 1, got [(Document(page_content=\"Article 241: High Courts' power to issue certain writs\\n(1) The High Court shall have power, throughout the territories in relation to which it exercises jurisdiction, to issue to any person or authority, including in appropriate cases, any Government, directions, orders or writs, including writs in the nature of habeas corpus, mandamus, prohibition, quo warranto and certiorari, or any of them, for the enforcement of any of the rights conferred by Part III and for any other purpose.\\n(2) The power conferred by clause (1) shall not be in derogation of the power conferred on the Supreme Court by Article 32.\\n\\nArticle 242: Administration of tribal areas\\n(1) The President may, with the consent of the Parliament, by order, direct that any area in the States of Assam, Meghalaya, Tripura and Mizoram shall be administered as a tribal area.\\n(2) An order made under clause (1) may, from time to time, be modified or revoked by the President by a like order.\\n(3) The administration of a tribal area under this article shall be carried on in accordance with the provisions of any law made by Parliament for the purpose.\\n\\nArticle 243: Constitution of Panchayats\\n(1) There shall be constituted in every State, Panchayats at the village, intermediate and district levels, to function as units of self-government.\\n(2) The composition of Panchayats at each level shall be as provided in the Constitution of each State.\\n(3) The powers and functions of Panchayats at each level shall be as provided in the Constitution of each State.\\n(4) The State Legislature may, by law, make provisions with respect to—\\n(a) the manner in which and the extent to which, powers and functions may be transferred to Panchayats at the district, intermediate and village levels under this article;\\n(b) the number of seats to be reserved for women and the reservation of seats in Panchayats in favour of the Scheduled Castes and the Scheduled Tribes, in accordance with the provisions of the Constitution.\\n\\nArticle 244: Creation of new States and alteration of areas, boundaries or names of existing States\\n(1) Parliament may by law—\\n(a) create a new State by separation of territory from any State or by uniting two or more States or parts of States or by uniting any territory to a State;\\n(b) increase the area of any State;\\n(c) diminish the area of any State;\\n(d) alter the boundaries of any State;\\n(e) alter the name of any State.\\n\\nArticle 245: Power of Parliament to make laws\\n\\nArticle 246: Legislative Powers of the Union\\n(1) Subject to the provisions of this Constitution, Parliament may make laws for the whole or any part of the territory of India.\\n(2) Parliament has exclusive power to make laws with respect to any of the matters enumerated in List I in the Seventh Schedule.\\n(3) Parliament and, subject to the provisions of Article 249, the Legislatures of States have power to make laws with respect to any of the matters enumerated in List III in the Seventh Schedule.\\n(4) The power of Parliament to make laws with respect to any matter enumerated in List II in the Seventh Schedule shall be subject to the provisions of Article 254.\\n\\nArticle 247: Control over public moneys\\n(1) All revenues received by the Government of India, except those assigned to the States by the Constitution, shall form one consolidated fund to be called the Consolidated Fund of India.\\n(2) All expenditure incurred by the Government of India, except that relating to the States, shall be charged on the Consolidated Fund of India.\\n(3) No moneys out of the Consolidated Fund of India shall be appropriated except in accordance with law passed by Parliament.\\n\\nArticle 248: Power of Parliament to make laws with respect to any matter\", metadata={'source': '/content/drive/MyDrive/Project_CILLM/colab_project/Constitution-Xpert using OpenAI Embeddings (1)/file_context_corpus_cleaned_extended_part3.txt'}), -5993.037841887599), (Document(page_content='Government of India Act 1935:\\nAn all-India Federation was proposed which would consist of British India and the princely states. This never materialised though. Subjects were divided between the centre and the provinces. Centre was in charge of the Federal List, provinces in charge of the Provincial List and there was a Concurrent List which both catered to. Diarchy was abolished at the provincial level and introduced at the centre. More autonomy was accorded to the provinces and in 6 out of 11 provinces, the bicameral legislature was introduced. A federal court was established and the Indian Council abolished. Burma and Aden were severed off from India. This act provided for the establishment of the RBI. This Act continued until it was replaced by the new Indian Constitution.\\n\\nIndian Independence Act 1947:\\nIndia was declared independent and sovereign. The Viceroy and the Governors were made constitutional (nominal) heads. Set up responsible governments at the centre and the provinces. Assigned both legislative and executive powers to the Constituent Assembly of India.\\n\\nWho is Father of Indian constitution?\\nThe father of the Indian Constitution is widely regarded as Dr. B.R. Ambedkar. On 29 August, he was appointed Chairman of the Constitution Drafting Committee, and was appointed by the Assembly to write India’s new Constitution.\\n\\nWhat is 104th amendment of Indian Constitution?\\nThe Constitution of India’s One Hundred and Fourth Amendment (104th Constitutional Amendment Act) extended by ten years the deadline for the cessation of reservation of seats in the Lok Sabha and state legislative assemblies for members of Scheduled Castes and Scheduled Tribes.\\n\\nPreamble of the Indian Constitution:\\nThe ‘Preamble’ of the Constitution of India is a brief introductory statement that sets out the guiding purpose and principles of the document, and it indicates the source from which the document which derives its authority, meaning, the people. It was adopted on 26 November 1949 by the Constituent Assembly of India and came into effect on 26th January 1950.\\n\\nPreamble of India – Objective Resolution:\\nIn 1946, Objective Resolution was moved by Jawaharlal Nehru, describing the constitutional structure. In 1947 (22nd January) it was adopted. It shaped the Constitution of India and its modified version is reflected in the Preamble of the Indian Constitution. The basic tenets that the objective resolution highlighted were:\\n1. Constituent Assembly’s resolve to see India as independent, sovereign and republic\\n2. To draw a Constitution for India\\n3. To make all territories of the pre-independent India into united states of post-independent India\\n4. To realize residual powers, autonomy on such states as the Constitution of India reflects\\n5. To realize union with the power which will be different than those given to such states\\n6. The people of India to play the source of power and authority of the sovereignty, and the independence\\n7. To provide justice, social, economic and political equality of status of opportunity and, freedom of thought, expression, belief, faith, worship, vocation, association and action, subject to law and public morality before the law\\n8. To provide adequate safeguards to the minorities, tribal and backward areas and other depressed and backward classes\\n9. To maintain the integrity of the Indian republic’s territory and its territorial rights on land, sea, air according to the justice and law of the civilized nation\\n10. To promote peace and welfare among the worldly nations.\\n\\nIs preamble a part of Indian Constitution?\\nYes, it is a part of the Indian constitution, also emphasized in Kesavananda Bharti Case.\\n \\nWho wrote the preamble of India?\\nThe preamble of India contains tenets highlighted in the Objective Resolution drafted by Jawaharlal Nehru in 1946\\n\\nHow many preambles does the Indian Constitution have?\\nOnly 1 preamble along with 22 parts and 12 schedules and 448 articles, Indian Constitution today exists', metadata={'source': '/content/drive/MyDrive/Project_CILLM/colab_project/Constitution-Xpert using OpenAI Embeddings (1)/file_context_corpus_cleaned_extended_part3.txt'}), -6008.502638955081), (Document(page_content=\"CONSTITUTION OF INDIA:\\n\\nThe Constitution of India is the supreme law of India. The document lays down the framework that demarcates fundamental political code, structure, procedures, powers, and duties of government institutions and sets out fundamental rights, directive principles, and the duties of citizens. It is the longest written national constitution in the world.\\n\\nThe Constitution of India imparts constitutional supremacy (not parliamentary supremacy, since it was created by a constituent assembly rather than Parliament) and was adopted by its people with a declaration in its preamble.Parliament cannot override the constitution.\\n\\nThe Constitution was adopted by the Constituent Assembly of India on 26 November 1949 and became effective on 26 January 1950. The constitution replaced the Government of India Act 1935 as the country's fundamental governing document, and the Dominion of India became the Republic of India. To ensure constitutional autochthony, its framers repealed prior acts of the British parliament in Article 395. India celebrates its constitution on 26 January as Republic Day.\\n\\nThe constitution declares India a sovereign, socialist, secular, and democratic republic, assures its citizens justice, equality, and liberty, and endeavours to promote fraternity. The original 1950 constitution is preserved in a nitrogen-filled case at the Parliament House in New Delhi.\\n\\nThe Constitution of India or the Constitution of the Republic of India came in effect on January 26, 1950 and is the longest written constitution of any independent nation in the world. It contains 22 Parts 395 articles and 12 schedules. It has a total of 117,369 words in its English language version.\\n\\nHistory of the Constitution of India:\\nAt the end of World War II in Europe on May 9, 1945, a new government came to power in the United Kingdom. This government announced to convene a constituent drafting body in India. A team of ministers, called the Cabinet Mission, were sent to India to find solution to the question of India's independence.\\nThe Cabinet Mission discussed the framework and the procedure to be followed the drafting body. With India's independence, the Constituent Assembly became a fully sovereign body and they began the working from 9 December 1947.\\nThe Assembly had members belonging to different communities, regions and even from different political persuasions of India. Dr. Rajendra Prasad was the elected president and B.R. Ambedkar, the chairman of the Drafting Committee.\\nOver a period of 2 years, 11 months and 18 days, before submitting the final copy of the Constitution, the Constituent Assembly met for 166 days and the sessions were always open to the press and the public.\\n\\nFeatures of the Constitution of India:\\nIt has been extensively drawn from Western legal traditions in enunciation of the principles of liberal democracy. The principles of the Constitution reflect aspirants to end the inequities of traditional social relations and to enhance the social welfare of the population. Since the enactment, the constitution has always fostered for a steady concentrate of power to the central government, especially to Prime Minister Office (PMO).\\n\\nFeatures of the Indian Constitution:\\nThe Indian constitution is unique in its content and spirit. The salient features ofthe constitution are as follows:\\nLengthiest written Constitution\\nBlend of Rigidity and Flexibility\\nFederal system with unitary features\\nParliamentary form of Government\\nIndependent judiciary\\nSingle citizenship\\nEmergency provision\\n\\nStructure of the Indian Constitution:\\nThe Indian Constitution originally consisted of 395 Art, 22 parts, 8 Schedules. But after the Constitution 104th Amendment Act, 2003, the Indian Constitution Consists of 448 Art, 25 parts, 12 Schedules.\", metadata={'source': '/content/drive/MyDrive/Project_CILLM/colab_project/Constitution-Xpert using OpenAI Embeddings (1)/file_context_corpus_cleaned_extended_part3.txt'}), -6033.748962387242), (Document(page_content='What does it mean by the Constitution of India?: \\nConstitution of India is essentially a set of frameworks that binds our nation together, invoking a sense of patriotism and unity that transcends social boundaries. The ideals embodied in the Indian Constitution are built entirely on a solid ethical framework designed to uplift the populace and propel Indian society ahead with a spirit of tolerance and respect for the nation’s diversity. \\nDespite being a relatively young Constitution, it has undergone through some tremendous changes while demonstrating remarkable resilience to every challenge. Our Indian Constitution is a living testament that proves that the desires of heedless political avarice do not govern the populace; rather, it is the will and the words of the Constitution. \\nAs Dr B. R. Ambedkar aptly states, “The Constitution is not a mere lawyer’s document, it is a vehicle of life, and its spirit is always the spirit of the age!” \\n\\nConstituent Assembly of India:\\nThe idea of a constituent assembly was first proposed in 1934 by M.N. Roy. However, the actual constituent assembly was formed in 1946 on the basis of the cabinet mission plan.\\n\\nBackground of the Constituent Assembly of India:\\nIn 1934, M N Roy first proposed the idea of a constituent assembly. The demand was taken up by the Congress Party in 1935 as an official demand. The British accepted this in the August Offer of 1940. Under the Cabinet Mission plan of 1946, elections were held for the formation of the constituent assembly. The members of this assembly were elected indirectly, i.e., by the members of the provincial assemblies by the method of a single transferable vote of proportional representation. The constituent assembly was formed for the purpose of writing a constitution for independent India\\n\\nComposition of Constituent Assembly:\\nInitially, the number of members was 389. After partition, some of the members went to Pakistan and the number came down to 299. Out of this, 229 were from the British provinces and 70 were nominated from the princely states.\\nDr. Sachchidananda Sinha was the first temporary chairman of the Constituent Assembly. Later, Dr. Rajendra Prasad was elected as the President and its Vice President was Harendra Coomar Mookerjee. BN Rau was the constitutional advisor.\\n\\nWhen did the constituent assembly first meet?\\nThe assembly first met on 9 December 1946\\n\\nWas there any role of the Muslim League in the formation of the Constitution of India ?\\nNo, there was no role played by the Muslim League in the constituent assembly as it had boycotted this meeting citing their demand for partition\\n\\nWhat is ‘Objective Resolution’ concerned with the constituent assembly of India?\\nObjective Resolution enshrined the aspirations and values of the constitution-makers. Under this, the people of India were guaranteed social, economic and political justice, equality and fundamental freedoms. This resolution was unanimously adopted on 22 January 1947 and the Preamble to the Constitution is based on it.\\n\\nWhen was Objective Resolution moved and by who?\\nOn 13 December 1946, Jawaharlal Nehru moved the ‘Objective Resolution’.\\n\\nWhen was National Flag of Union adopted?\\nThe National Flag of the Union was adopted on 22 July 1947\\n\\nFor how many days, the constituent assembly assembled to frame the constitution?\\nThe time is taken by the assembly to frame the constitution: 2 years, 11 months and 17 days. Money spent in framing the constitution: Rs.64 lakhs\\n\\nWhen was Jana Gana Mana adopted as our national anthem? \\nOn 24 January 1950, ‘Jana Gana Mana’ was adopted as the national anthem\\n\\nHow many articles our final constitution has? \\nThe final document had 22 parts, 395 articles and 8 schedules.\\n\\nWhat was the total number of sessions constituent assembly had?\\nThe assembly had met for 11 sessions\\n\\nWhen was the draft of the Indian Constitution published?\\nThe draft was published in January 1948 and the country’s people were asked for their feedback and inputs within 8 months', metadata={'source': '/content/drive/MyDrive/Project_CILLM/colab_project/Constitution-Xpert using OpenAI Embeddings (1)/file_context_corpus_cleaned_extended_part3.txt'}), -6251.65478023758)]\n",
            "  warnings.warn(\n"
          ]
        }
      ]
    },
    {
      "cell_type": "markdown",
      "source": [
        "#### Reordering\n",
        "- When models must access relevant information in the middle of long contexts, then tend to ignore the provided documents. See: https://arxiv.org/abs/2307.03172\n"
      ],
      "metadata": {
        "id": "qcOReyx7c9eS"
      }
    },
    {
      "cell_type": "code",
      "source": [
        "from langchain.document_transformers import (\n",
        "    LongContextReorder,\n",
        ")\n",
        "\n",
        "# Reorder returned docs\n",
        "reordering = LongContextReorder()\n",
        "reordered_docs = reordering.transform_documents(retrieved_docs)\n",
        "reordered_docs"
      ],
      "metadata": {
        "id": "41Yhjut9dUE3",
        "colab": {
          "base_uri": "https://localhost:8080/"
        },
        "outputId": "04f1ce4c-58cb-4e6d-f50d-16adea3fc5ad"
      },
      "execution_count": 24,
      "outputs": [
        {
          "output_type": "execute_result",
          "data": {
            "text/plain": [
              "[(Document(page_content='Government of India Act 1935:\\nAn all-India Federation was proposed which would consist of British India and the princely states. This never materialised though. Subjects were divided between the centre and the provinces. Centre was in charge of the Federal List, provinces in charge of the Provincial List and there was a Concurrent List which both catered to. Diarchy was abolished at the provincial level and introduced at the centre. More autonomy was accorded to the provinces and in 6 out of 11 provinces, the bicameral legislature was introduced. A federal court was established and the Indian Council abolished. Burma and Aden were severed off from India. This act provided for the establishment of the RBI. This Act continued until it was replaced by the new Indian Constitution.\\n\\nIndian Independence Act 1947:\\nIndia was declared independent and sovereign. The Viceroy and the Governors were made constitutional (nominal) heads. Set up responsible governments at the centre and the provinces. Assigned both legislative and executive powers to the Constituent Assembly of India.\\n\\nWho is Father of Indian constitution?\\nThe father of the Indian Constitution is widely regarded as Dr. B.R. Ambedkar. On 29 August, he was appointed Chairman of the Constitution Drafting Committee, and was appointed by the Assembly to write India’s new Constitution.\\n\\nWhat is 104th amendment of Indian Constitution?\\nThe Constitution of India’s One Hundred and Fourth Amendment (104th Constitutional Amendment Act) extended by ten years the deadline for the cessation of reservation of seats in the Lok Sabha and state legislative assemblies for members of Scheduled Castes and Scheduled Tribes.\\n\\nPreamble of the Indian Constitution:\\nThe ‘Preamble’ of the Constitution of India is a brief introductory statement that sets out the guiding purpose and principles of the document, and it indicates the source from which the document which derives its authority, meaning, the people. It was adopted on 26 November 1949 by the Constituent Assembly of India and came into effect on 26th January 1950.\\n\\nPreamble of India – Objective Resolution:\\nIn 1946, Objective Resolution was moved by Jawaharlal Nehru, describing the constitutional structure. In 1947 (22nd January) it was adopted. It shaped the Constitution of India and its modified version is reflected in the Preamble of the Indian Constitution. The basic tenets that the objective resolution highlighted were:\\n1. Constituent Assembly’s resolve to see India as independent, sovereign and republic\\n2. To draw a Constitution for India\\n3. To make all territories of the pre-independent India into united states of post-independent India\\n4. To realize residual powers, autonomy on such states as the Constitution of India reflects\\n5. To realize union with the power which will be different than those given to such states\\n6. The people of India to play the source of power and authority of the sovereignty, and the independence\\n7. To provide justice, social, economic and political equality of status of opportunity and, freedom of thought, expression, belief, faith, worship, vocation, association and action, subject to law and public morality before the law\\n8. To provide adequate safeguards to the minorities, tribal and backward areas and other depressed and backward classes\\n9. To maintain the integrity of the Indian republic’s territory and its territorial rights on land, sea, air according to the justice and law of the civilized nation\\n10. To promote peace and welfare among the worldly nations.\\n\\nIs preamble a part of Indian Constitution?\\nYes, it is a part of the Indian constitution, also emphasized in Kesavananda Bharti Case.\\n \\nWho wrote the preamble of India?\\nThe preamble of India contains tenets highlighted in the Objective Resolution drafted by Jawaharlal Nehru in 1946\\n\\nHow many preambles does the Indian Constitution have?\\nOnly 1 preamble along with 22 parts and 12 schedules and 448 articles, Indian Constitution today exists', metadata={'source': '/content/drive/MyDrive/Project_CILLM/colab_project/Constitution-Xpert using OpenAI Embeddings (1)/file_context_corpus_cleaned_extended_part3.txt'}),\n",
              "  -6008.502638955081),\n",
              " (Document(page_content='What does it mean by the Constitution of India?: \\nConstitution of India is essentially a set of frameworks that binds our nation together, invoking a sense of patriotism and unity that transcends social boundaries. The ideals embodied in the Indian Constitution are built entirely on a solid ethical framework designed to uplift the populace and propel Indian society ahead with a spirit of tolerance and respect for the nation’s diversity. \\nDespite being a relatively young Constitution, it has undergone through some tremendous changes while demonstrating remarkable resilience to every challenge. Our Indian Constitution is a living testament that proves that the desires of heedless political avarice do not govern the populace; rather, it is the will and the words of the Constitution. \\nAs Dr B. R. Ambedkar aptly states, “The Constitution is not a mere lawyer’s document, it is a vehicle of life, and its spirit is always the spirit of the age!” \\n\\nConstituent Assembly of India:\\nThe idea of a constituent assembly was first proposed in 1934 by M.N. Roy. However, the actual constituent assembly was formed in 1946 on the basis of the cabinet mission plan.\\n\\nBackground of the Constituent Assembly of India:\\nIn 1934, M N Roy first proposed the idea of a constituent assembly. The demand was taken up by the Congress Party in 1935 as an official demand. The British accepted this in the August Offer of 1940. Under the Cabinet Mission plan of 1946, elections were held for the formation of the constituent assembly. The members of this assembly were elected indirectly, i.e., by the members of the provincial assemblies by the method of a single transferable vote of proportional representation. The constituent assembly was formed for the purpose of writing a constitution for independent India\\n\\nComposition of Constituent Assembly:\\nInitially, the number of members was 389. After partition, some of the members went to Pakistan and the number came down to 299. Out of this, 229 were from the British provinces and 70 were nominated from the princely states.\\nDr. Sachchidananda Sinha was the first temporary chairman of the Constituent Assembly. Later, Dr. Rajendra Prasad was elected as the President and its Vice President was Harendra Coomar Mookerjee. BN Rau was the constitutional advisor.\\n\\nWhen did the constituent assembly first meet?\\nThe assembly first met on 9 December 1946\\n\\nWas there any role of the Muslim League in the formation of the Constitution of India ?\\nNo, there was no role played by the Muslim League in the constituent assembly as it had boycotted this meeting citing their demand for partition\\n\\nWhat is ‘Objective Resolution’ concerned with the constituent assembly of India?\\nObjective Resolution enshrined the aspirations and values of the constitution-makers. Under this, the people of India were guaranteed social, economic and political justice, equality and fundamental freedoms. This resolution was unanimously adopted on 22 January 1947 and the Preamble to the Constitution is based on it.\\n\\nWhen was Objective Resolution moved and by who?\\nOn 13 December 1946, Jawaharlal Nehru moved the ‘Objective Resolution’.\\n\\nWhen was National Flag of Union adopted?\\nThe National Flag of the Union was adopted on 22 July 1947\\n\\nFor how many days, the constituent assembly assembled to frame the constitution?\\nThe time is taken by the assembly to frame the constitution: 2 years, 11 months and 17 days. Money spent in framing the constitution: Rs.64 lakhs\\n\\nWhen was Jana Gana Mana adopted as our national anthem? \\nOn 24 January 1950, ‘Jana Gana Mana’ was adopted as the national anthem\\n\\nHow many articles our final constitution has? \\nThe final document had 22 parts, 395 articles and 8 schedules.\\n\\nWhat was the total number of sessions constituent assembly had?\\nThe assembly had met for 11 sessions\\n\\nWhen was the draft of the Indian Constitution published?\\nThe draft was published in January 1948 and the country’s people were asked for their feedback and inputs within 8 months', metadata={'source': '/content/drive/MyDrive/Project_CILLM/colab_project/Constitution-Xpert using OpenAI Embeddings (1)/file_context_corpus_cleaned_extended_part3.txt'}),\n",
              "  -6251.65478023758),\n",
              " (Document(page_content=\"CONSTITUTION OF INDIA:\\n\\nThe Constitution of India is the supreme law of India. The document lays down the framework that demarcates fundamental political code, structure, procedures, powers, and duties of government institutions and sets out fundamental rights, directive principles, and the duties of citizens. It is the longest written national constitution in the world.\\n\\nThe Constitution of India imparts constitutional supremacy (not parliamentary supremacy, since it was created by a constituent assembly rather than Parliament) and was adopted by its people with a declaration in its preamble.Parliament cannot override the constitution.\\n\\nThe Constitution was adopted by the Constituent Assembly of India on 26 November 1949 and became effective on 26 January 1950. The constitution replaced the Government of India Act 1935 as the country's fundamental governing document, and the Dominion of India became the Republic of India. To ensure constitutional autochthony, its framers repealed prior acts of the British parliament in Article 395. India celebrates its constitution on 26 January as Republic Day.\\n\\nThe constitution declares India a sovereign, socialist, secular, and democratic republic, assures its citizens justice, equality, and liberty, and endeavours to promote fraternity. The original 1950 constitution is preserved in a nitrogen-filled case at the Parliament House in New Delhi.\\n\\nThe Constitution of India or the Constitution of the Republic of India came in effect on January 26, 1950 and is the longest written constitution of any independent nation in the world. It contains 22 Parts 395 articles and 12 schedules. It has a total of 117,369 words in its English language version.\\n\\nHistory of the Constitution of India:\\nAt the end of World War II in Europe on May 9, 1945, a new government came to power in the United Kingdom. This government announced to convene a constituent drafting body in India. A team of ministers, called the Cabinet Mission, were sent to India to find solution to the question of India's independence.\\nThe Cabinet Mission discussed the framework and the procedure to be followed the drafting body. With India's independence, the Constituent Assembly became a fully sovereign body and they began the working from 9 December 1947.\\nThe Assembly had members belonging to different communities, regions and even from different political persuasions of India. Dr. Rajendra Prasad was the elected president and B.R. Ambedkar, the chairman of the Drafting Committee.\\nOver a period of 2 years, 11 months and 18 days, before submitting the final copy of the Constitution, the Constituent Assembly met for 166 days and the sessions were always open to the press and the public.\\n\\nFeatures of the Constitution of India:\\nIt has been extensively drawn from Western legal traditions in enunciation of the principles of liberal democracy. The principles of the Constitution reflect aspirants to end the inequities of traditional social relations and to enhance the social welfare of the population. Since the enactment, the constitution has always fostered for a steady concentrate of power to the central government, especially to Prime Minister Office (PMO).\\n\\nFeatures of the Indian Constitution:\\nThe Indian constitution is unique in its content and spirit. The salient features ofthe constitution are as follows:\\nLengthiest written Constitution\\nBlend of Rigidity and Flexibility\\nFederal system with unitary features\\nParliamentary form of Government\\nIndependent judiciary\\nSingle citizenship\\nEmergency provision\\n\\nStructure of the Indian Constitution:\\nThe Indian Constitution originally consisted of 395 Art, 22 parts, 8 Schedules. But after the Constitution 104th Amendment Act, 2003, the Indian Constitution Consists of 448 Art, 25 parts, 12 Schedules.\", metadata={'source': '/content/drive/MyDrive/Project_CILLM/colab_project/Constitution-Xpert using OpenAI Embeddings (1)/file_context_corpus_cleaned_extended_part3.txt'}),\n",
              "  -6033.748962387242),\n",
              " (Document(page_content=\"Article 241: High Courts' power to issue certain writs\\n(1) The High Court shall have power, throughout the territories in relation to which it exercises jurisdiction, to issue to any person or authority, including in appropriate cases, any Government, directions, orders or writs, including writs in the nature of habeas corpus, mandamus, prohibition, quo warranto and certiorari, or any of them, for the enforcement of any of the rights conferred by Part III and for any other purpose.\\n(2) The power conferred by clause (1) shall not be in derogation of the power conferred on the Supreme Court by Article 32.\\n\\nArticle 242: Administration of tribal areas\\n(1) The President may, with the consent of the Parliament, by order, direct that any area in the States of Assam, Meghalaya, Tripura and Mizoram shall be administered as a tribal area.\\n(2) An order made under clause (1) may, from time to time, be modified or revoked by the President by a like order.\\n(3) The administration of a tribal area under this article shall be carried on in accordance with the provisions of any law made by Parliament for the purpose.\\n\\nArticle 243: Constitution of Panchayats\\n(1) There shall be constituted in every State, Panchayats at the village, intermediate and district levels, to function as units of self-government.\\n(2) The composition of Panchayats at each level shall be as provided in the Constitution of each State.\\n(3) The powers and functions of Panchayats at each level shall be as provided in the Constitution of each State.\\n(4) The State Legislature may, by law, make provisions with respect to—\\n(a) the manner in which and the extent to which, powers and functions may be transferred to Panchayats at the district, intermediate and village levels under this article;\\n(b) the number of seats to be reserved for women and the reservation of seats in Panchayats in favour of the Scheduled Castes and the Scheduled Tribes, in accordance with the provisions of the Constitution.\\n\\nArticle 244: Creation of new States and alteration of areas, boundaries or names of existing States\\n(1) Parliament may by law—\\n(a) create a new State by separation of territory from any State or by uniting two or more States or parts of States or by uniting any territory to a State;\\n(b) increase the area of any State;\\n(c) diminish the area of any State;\\n(d) alter the boundaries of any State;\\n(e) alter the name of any State.\\n\\nArticle 245: Power of Parliament to make laws\\n\\nArticle 246: Legislative Powers of the Union\\n(1) Subject to the provisions of this Constitution, Parliament may make laws for the whole or any part of the territory of India.\\n(2) Parliament has exclusive power to make laws with respect to any of the matters enumerated in List I in the Seventh Schedule.\\n(3) Parliament and, subject to the provisions of Article 249, the Legislatures of States have power to make laws with respect to any of the matters enumerated in List III in the Seventh Schedule.\\n(4) The power of Parliament to make laws with respect to any matter enumerated in List II in the Seventh Schedule shall be subject to the provisions of Article 254.\\n\\nArticle 247: Control over public moneys\\n(1) All revenues received by the Government of India, except those assigned to the States by the Constitution, shall form one consolidated fund to be called the Consolidated Fund of India.\\n(2) All expenditure incurred by the Government of India, except that relating to the States, shall be charged on the Consolidated Fund of India.\\n(3) No moneys out of the Consolidated Fund of India shall be appropriated except in accordance with law passed by Parliament.\\n\\nArticle 248: Power of Parliament to make laws with respect to any matter\", metadata={'source': '/content/drive/MyDrive/Project_CILLM/colab_project/Constitution-Xpert using OpenAI Embeddings (1)/file_context_corpus_cleaned_extended_part3.txt'}),\n",
              "  -5993.037841887599)]"
            ]
          },
          "metadata": {},
          "execution_count": 24
        }
      ]
    },
    {
      "cell_type": "markdown",
      "source": [
        "### OpenAI Embeddings"
      ],
      "metadata": {
        "id": "-1eyV80gn9sR"
      }
    },
    {
      "cell_type": "code",
      "source": [
        "OPENAI_API_KEY = return_api_key(\"OPENAI_API_KEY\")\n",
        "# OPENAI_API_KEY"
      ],
      "metadata": {
        "id": "WdW32-0prwtg"
      },
      "execution_count": null,
      "outputs": []
    },
    {
      "cell_type": "code",
      "source": [
        "from langchain.embeddings import OpenAIEmbeddings\n",
        "\n",
        "openai = OpenAIEmbeddings(openai_api_key=OPENAI_API_KEY)\n"
      ],
      "metadata": {
        "id": "A3HPSd4vr360"
      },
      "execution_count": null,
      "outputs": []
    },
    {
      "cell_type": "markdown",
      "source": [
        "#### We can also use [VectorstoreIndexCreator](https://python.langchain.com/docs/modules/data_connection/retrievers/#one-line-index-creation)\n",
        "for creating vectorstore quickly with one liner code."
      ],
      "metadata": {
        "id": "8XznW6gTElyA"
      }
    },
    {
      "cell_type": "code",
      "source": [
        "from langchain.indexes import VectorstoreIndexCreator\n",
        "from langchain.chains import RetrievalQA\n",
        "\n",
        "\n",
        "index_creator = VectorstoreIndexCreator(\n",
        "    vectorstore_cls=Chroma,\n",
        "    embedding=CohereEmbeddings(cohere_api_key=COHERE_API_KEY),\n",
        "    text_splitter=CharacterTextSplitter(separator='\\n\\n'),\n",
        ")\n",
        "\n",
        "index = index_creator.from_loaders([loader_text])\n",
        "\n",
        "# querying\n",
        "query = \"what is article 4?\"\n",
        "# index.query(query) # give your llm\n",
        "# index.query_with_sources(query) # give your llm\n",
        "\n",
        "# check Vectorstore\n",
        "index.vectorstore\n",
        "\n",
        "# can use as a retriever\n",
        "index.vectorstore.as_retriever()\n",
        "\n",
        "# can use in QA using llm\n",
        "# qa = RetrievalQA.from_chain_type(llm=OpenAI(), chain_type=\"stuff\", retriever=retriever)"
      ],
      "metadata": {
        "colab": {
          "base_uri": "https://localhost:8080/"
        },
        "id": "dcsbPVtvE4Ht",
        "outputId": "58c2b6d2-4131-4f05-ebf0-a2cb801fb6e5"
      },
      "execution_count": 25,
      "outputs": [
        {
          "output_type": "execute_result",
          "data": {
            "text/plain": [
              "VectorStoreRetriever(tags=['Chroma', 'CohereEmbeddings'], metadata=None, vectorstore=<langchain.vectorstores.chroma.Chroma object at 0x7e55a1d6fdf0>, search_type='similarity', search_kwargs={})"
            ]
          },
          "metadata": {},
          "execution_count": 25
        }
      ]
    },
    {
      "cell_type": "markdown",
      "source": [
        "## [Retrievers](https://python.langchain.com/docs/modules/data_connection/retrievers/)"
      ],
      "metadata": {
        "id": "d6AzTQMZsNpt"
      }
    },
    {
      "cell_type": "markdown",
      "source": [
        "### [MultiQueryRetriever](https://python.langchain.com/docs/modules/data_connection/retrievers/MultiQueryRetriever)"
      ],
      "metadata": {
        "id": "V3KSRJGzsfPh"
      }
    },
    {
      "cell_type": "code",
      "source": [
        "# using cohere llm via LiteLLM lib interface\n",
        "# from langchain.chat_models import ChatLiteLLM\n",
        "from langchain.llms import Cohere\n",
        "from langchain.prompts.chat import (\n",
        "    ChatPromptTemplate,\n",
        "    SystemMessagePromptTemplate,\n",
        "    AIMessagePromptTemplate,\n",
        "    HumanMessagePromptTemplate,\n",
        ")\n",
        "from langchain.schema import AIMessage, HumanMessage, SystemMessage\n",
        "from langchain.retrievers.multi_query import MultiQueryRetriever\n",
        "\n",
        "# llm = ChatLiteLLM(model=\"command-nightly\", cohere_api_key=COHERE_API_KEY)\n",
        "llm = Cohere(model=\"command-nightly\", cohere_api_key=COHERE_API_KEY)\n",
        "# llm.cohere_api_key\n",
        "retriever_from_llm = MultiQueryRetriever.from_llm(\n",
        "    retriever=cohr_db.as_retriever(), llm=llm\n",
        ")"
      ],
      "metadata": {
        "id": "v4oJcuzLC82h"
      },
      "execution_count": 26,
      "outputs": []
    },
    {
      "cell_type": "code",
      "source": [
        "# Set logging for the queries\n",
        "import logging\n",
        "\n",
        "logging.basicConfig()\n",
        "logging.getLogger(\"langchain.retrievers.multi_query\").setLevel(logging.INFO)\n"
      ],
      "metadata": {
        "id": "Y4DPDEaROJrD"
      },
      "execution_count": 27,
      "outputs": []
    },
    {
      "cell_type": "code",
      "source": [
        "\n",
        "question = \"Tell me about article 4\"\n",
        "unique_docs = retriever_from_llm.get_relevant_documents(query=question)\n",
        "len(unique_docs)"
      ],
      "metadata": {
        "colab": {
          "base_uri": "https://localhost:8080/"
        },
        "id": "0vSP7YiEOt66",
        "outputId": "da00b322-75f2-4909-8727-1c09edae17fe"
      },
      "execution_count": 28,
      "outputs": [
        {
          "output_type": "stream",
          "name": "stderr",
          "text": [
            "INFO:langchain.retrievers.multi_query:Generated queries: ['1. \"Tell me about article 4 in relation to the others.\"', '2. \"What is the main idea of article 4?\"', '3. \"Article 4 is about _________\"']\n"
          ]
        },
        {
          "output_type": "execute_result",
          "data": {
            "text/plain": [
              "9"
            ]
          },
          "metadata": {},
          "execution_count": 28
        }
      ]
    },
    {
      "cell_type": "markdown",
      "source": [
        "- We can supply our own prompt along with [output parser](https://python.langchain.com/docs/modules/model_io/output_parsers/) to split the results into a list of queries\n",
        "\n"
      ],
      "metadata": {
        "id": "IdYvXQbZPBAG"
      }
    },
    {
      "cell_type": "code",
      "source": [
        "from typing import List\n",
        "from langchain import LLMChain\n",
        "from pydantic import BaseModel, Field\n",
        "from langchain.prompts import PromptTemplate\n",
        "from langchain.output_parsers import PydanticOutputParser\n",
        "\n",
        "\n",
        "# Output parser will split the LLM result into a list of queries\n",
        "class LineList(BaseModel):\n",
        "    # \"lines\" is the key (attribute name) of the parsed output\n",
        "    lines: List[str] = Field(description=\"Lines of text\")\n",
        "\n",
        "\n",
        "class LineListOutputParser(PydanticOutputParser):\n",
        "    def __init__(self) -> None:\n",
        "        super().__init__(pydantic_object=LineList)\n",
        "\n",
        "    def parse(self, text: str) -> LineList:\n",
        "        lines = text.strip().split(\"\\n\")\n",
        "        return LineList(lines=lines)\n",
        "\n",
        "\n",
        "output_parser = LineListOutputParser()\n",
        "\n",
        "QUERY_PROMPT = PromptTemplate(\n",
        "    input_variables=[\"question\"],\n",
        "    template=\"\"\"You are an AI language model assistant. Your task is to generate five\n",
        "    different versions of the given user question to retrieve relevant documents from a vector\n",
        "    database. By generating multiple perspectives on the user question, your goal is to help\n",
        "    the user overcome some of the limitations of the distance-based similarity search.\n",
        "    Provide these alternative questions seperated by newlines.\n",
        "    Original question: {question}\"\"\",\n",
        ")\n",
        "\n",
        "# Chain\n",
        "llm_chain = LLMChain(llm=llm, prompt=QUERY_PROMPT, output_parser=output_parser)\n",
        "\n",
        "# Other inputs\n",
        "question = \"what is reservation in contitution of india?\""
      ],
      "metadata": {
        "id": "d8s0JEM0aMq4"
      },
      "execution_count": 29,
      "outputs": []
    },
    {
      "cell_type": "code",
      "source": [
        "# Run\n",
        "retriever = MultiQueryRetriever(\n",
        "    retriever=cohr_db.as_retriever(), llm_chain=llm_chain, parser_key=\"lines\"\n",
        ")  # \"lines\" is the key (attribute name) of the parsed output\n",
        "\n",
        "# Results\n",
        "unique_docs = retriever.get_relevant_documents(\n",
        "    query=question\n",
        ")\n",
        "len(unique_docs)"
      ],
      "metadata": {
        "colab": {
          "base_uri": "https://localhost:8080/"
        },
        "id": "nU3RZvIpa0rh",
        "outputId": "ec13c03c-63fc-438a-b43b-d51b132790d3"
      },
      "execution_count": 30,
      "outputs": [
        {
          "output_type": "stream",
          "name": "stderr",
          "text": [
            "INFO:langchain.retrievers.multi_query:Generated queries: ['1. What is the reservation in the Constitution of India according to Article 15?', '2. How does the reservation system in India work?', '3. What are the different types of reservations in India?', '4. What is the history of reservation in India?', '5. How has the reservation system changed over time in India?']\n"
          ]
        },
        {
          "output_type": "execute_result",
          "data": {
            "text/plain": [
              "10"
            ]
          },
          "metadata": {},
          "execution_count": 30
        }
      ]
    },
    {
      "cell_type": "code",
      "source": [],
      "metadata": {
        "id": "mTz8YKKQa9on"
      },
      "execution_count": null,
      "outputs": []
    },
    {
      "cell_type": "code",
      "source": [],
      "metadata": {
        "id": "M4XNHlTre95U"
      },
      "execution_count": null,
      "outputs": []
    },
    {
      "cell_type": "code",
      "source": [],
      "metadata": {
        "id": "k3W40nmke98l"
      },
      "execution_count": null,
      "outputs": []
    },
    {
      "cell_type": "code",
      "source": [],
      "metadata": {
        "id": "aYtVbxf9e9_h"
      },
      "execution_count": null,
      "outputs": []
    },
    {
      "cell_type": "markdown",
      "source": [
        "### [Ensemble Retriever](https://python.langchain.com/docs/modules/data_connection/retrievers/ensemble)\n",
        "- The EnsembleRetriever takes a list of retrievers as input and ensemble the results of their get_relevant_documents() methods and rerank the results based on the [Reciprocal Rank Fusion](https://plg.uwaterloo.ca/~gvcormac/cormacksigir09-rrf.pdf) algorithm.\n",
        "- The most common pattern is to combine a sparse retriever(like BM25) with a dense retriever(like Embedding similarity), because their strengths are complementary. It is also known as \"hybrid search\"."
      ],
      "metadata": {
        "id": "vJzsgqNKe-Cc"
      }
    },
    {
      "cell_type": "code",
      "source": [
        "from langchain.retrievers import BM25Retriever\n",
        "from langchain.retrievers import EnsembleRetriever"
      ],
      "metadata": {
        "id": "TCNDL9k8iH8I"
      },
      "execution_count": 31,
      "outputs": []
    },
    {
      "cell_type": "code",
      "source": [
        "# initialize the bm25 retriever\n",
        "bm25_retriever = BM25Retriever.from_documents(docs_text)\n",
        "bm25_retriever.k = 2\n",
        "\n",
        "# initialize the Chromadb as retriever\n",
        "chroma_retriever = cohr_db.as_retriever(search_kwargs={\"k\": 2})\n",
        "\n"
      ],
      "metadata": {
        "id": "punritF1nMiT"
      },
      "execution_count": 32,
      "outputs": []
    },
    {
      "cell_type": "code",
      "source": [
        "# initialize the ensemble retriever\n",
        "ensemble_retriever = EnsembleRetriever(retrievers=[bm25_retriever, chroma_retriever], weights=[0.5, 0.5])"
      ],
      "metadata": {
        "id": "A5zqzYidn0q7"
      },
      "execution_count": 33,
      "outputs": []
    },
    {
      "cell_type": "code",
      "source": [
        "docs = ensemble_retriever.get_relevant_documents(\"schedules\")\n",
        "docs"
      ],
      "metadata": {
        "colab": {
          "base_uri": "https://localhost:8080/"
        },
        "id": "5eYX9xAOnrWk",
        "outputId": "00b90686-124b-4257-8146-098891d69200"
      },
      "execution_count": 34,
      "outputs": [
        {
          "output_type": "execute_result",
          "data": {
            "text/plain": [
              "[Document(page_content='How many Schedules are there in India?\\nThere are 12 Schedules in the Indian Constitution.\\n\\nWhat is the 11th and 12th Schedule of India?\\nEleventh Schedule – It contains the provisions that specify the powers, authority and responsibilities of Panchayats.\\nFundamental Rights – It deals with the provisions that specify the powers, authority and responsibilities of Municipalities.\\n\\nWhich act gave Constitutional recognition to the municipalities?\\n74th Amendment Act 1992 gave constitutional recognition to urban local bodies i.e. municipalities.\\n\\nRepresentation of People Act, 1951:\\nThe Representation of People Act, 1951 was passed by the Parliament in accordance with Article 327 of the Constitution of India. This legislation deals with the conduct of elections in the country and is hence a very important one. Articles 324 to 329 of Part XV of the Indian Constitution provides for the country’s electoral system. The Constitution confers upon the Parliament the power to enact laws for all matters connected with elections to the Parliament and the State Legislature.  \\t\\n\\nWhen was the Representation of the People Act passed?\\nThe first Representation of People Act  was enacted in 1950.\\n\\nWhat amendment did the Representation of People Act make?\\nThe Representation of People Act  was amended many times. In 1966, the amendment to the 1951 Act abolished election tribunals. Many other amendments were passed, the details of which are mentioned in the article.\\n\\nCan a convicted person contest election in India?\\nA person convicted of any offence and imprisoned for more than 2 years shall be disqualified from contesting for a period of 6 years after he or she is released from jail. After the 6-year period, he/she can contest elections.\\n\\nRight to Education Act (RTE):\\nThe Right to Education Act (RTE) is important legislation that marks a watershed in the education system in India. With its enactment, the right to education has become a fundamental right in the country.\\nThe Act is completely titled “the Right of Children to Free and Compulsory Education Act”. It was passed by the Parliament in August 2009. When the Act came into force in 2010, India became one among 135 countries where education is a fundamental right of every child.\\n\\nWhat are the basic features of Right to Education Act?\\nSome of the basic features of the RTE are:\\n1. Free and compulsory education for all children in the age group 6 to 14.\\n2. There will not be any detention or examination until elementary education is completed. However, there has been an amendment to this (as mentioned above in the criticisms of the Act).\\n3. This makes providing education a legal obligation of the governments.\\n4. It also makes it mandatory for all private schools to reserve 25% of their seats for the EWS and disadvantaged groups.\\n\\nWhat is the age limit for RTE?\\nAll children between the ages of 6 and 14 have the right to free education under the provisions of the Act.\\n\\nWhat is Article 21 of the Constitution?\\nArticle 21 deals with the right to life and personal liberty. It is a fundamental right. To know more click on Right to Life (Article 21) – Indian Polity Notes.\\n\\nWhat is the importance of the right to education?\\nEducation is a significant step to achieving all other basic human rights. Education can help decrease poverty, reduce social inequalities, empower women and others marginalised, bring down discrimination and finally help individuals live life to their fullest potentials. It helps improve access to opportunities for a better life in terms of employment and business. It can also bring about peace and overall prosperity to a region. Therefore, education is one of the most important rights.', metadata={'source': '/content/drive/MyDrive/Project_CILLM/colab_project/Constitution-Xpert using OpenAI Embeddings (1)/file_context_corpus_cleaned_extended_part3.txt'}),\n",
              " Document(page_content=\"The 44th Amendment Amend articles 19, 22, 30, 31A, 31C, 38, 71, 74, 77, 83, 103, 105, 123, 132, 133, 134, 139A, 150, 166, 172, 192, 194, 213, 217, 225, 226, 227, 239B, 329, 352, 356, 358, 359, 360 and 371F.\\nInsert articles 134A and 361A.\\nRemove articles 31, 257A and 329A.\\nAmend part 12.\\nAmend schedule 9.\\nThe objective of 44th Amendment was: Amendment passed after revocation of internal emergency in the Country. \\nProvides for human rights safeguards and mechanisms to prevent abuse of executive and legislative authority. Annuls some Amendments enacted in Amendment Bill 42. \\nThe 44th Amendment is enforced since: 20 June, 1 August & 6 September 1979 [6] \\nThe Prime Minster at the time of 44th Amendment was: Morarji Desai \\nThe President at the time of 44th Amendment was: Neelam Sanjiva Reddy \\n\\nThe 45th Amendment Amend article 334.\\nThe objective of 45th Amendment was: Extend reservation for SCs and STs and nomination of Anglo Indian members in Parliament and State Assemblies for another ten years i.e. up to 1990. \\nThe 45th Amendment is enforced since: 25 January 1980 \\nThe Prime Minster at the time of 45th Amendment was: Indira Gandhi \\nThe President at the time of 45th Amendment was: Neelam Sanjiva Reddy \\n\\nThe 46th Amendment Amend articles 269, 286 and 366.\\nAmend schedule 7.\\nThe objective of 46th Amendment was: Amendment to negate judicial pronouncements on scope and applicability on Sales Tax. \\nThe 46th Amendment is enforced since: 2 February 1983 \\nThe Prime Minster at the time of 46th Amendment was: Indira Gandhi \\nThe President at the time of 46th Amendment was: Zail Singh \\n\\nThe 47th Amendment Amend schedule 9.\\nThe objective of 47th Amendment was: Place land reform acts and amendments to these act under Schedule 9 of the constitution. \\nThe 47th Amendment is enforced since: 26 August 1984 \\nThe Prime Minster at the time of 47th Amendment was: Indira Gandhi \\nThe President at the time of 47th Amendment was: Zail Singh \\n\\nThe 48th Amendment Amend article 356.\\nThe objective of 48th Amendment was: Article 356 amended to permit President's rule up to two years in the state of Punjab. \\nThe 48th Amendment is enforced since: 1 April 1985 \\nThe Prime Minster at the time of 48th Amendment was: Indira Gandhi \\nThe President at the time of 48th Amendment was: Zail Singh \\n\\nThe 49th Amendment Amend article 244.\\nAmend schedules 5 and 6.\\nThe objective of 49th Amendment was: Recognise Tripura as a tribal state and enable the creation of a Tripura Tribal Areas Autonomous District Council. \\nThe 49th Amendment is enforced since: 11 September 1984 \\nThe Prime Minster at the time of 49th Amendment was: Indira Gandhi \\nThe President at the time of 49th Amendment was: Zail Singh \\n\\nThe 50th Amendment Amend article 33.\\nThe objective of 50th Amendment was: Technical Amendment to curtailment of Fundamental Rights as per Part III as prescribed in Article 33 to cover Security Personnel protecting property and communication infrastructure. \\nThe 50th Amendment is enforced since: 11 September 1984 \\nThe Prime Minster at the time of 50th Amendment was: Indira Gandhi \\nThe President at the time of 50th Amendment was: Zail Singh \\n\\nThe 51st Amendment Amend articles 330 and 332.\\nThe objective of 51st Amendment was: Provide reservation to Scheduled Tribes in Nagaland, Meghalaya, Mizoram and Arunachal Pradesh in Loksabha, similarly for Meghalaya and Arunachal in their Legislative Assemblies. \\nThe 51st Amendment is enforced since: 16 June 1986 \\nThe Prime Minster at the time of 51st Amendment was: Indira Gandhi \\nThe President at the time of 51st Amendment was: Zail Singh\", metadata={'source': '/content/drive/MyDrive/Project_CILLM/colab_project/Constitution-Xpert using OpenAI Embeddings (1)/file_context_corpus_cleaned_extended_part3.txt'}),\n",
              " Document(page_content='The 13th Amendment Amend article 170.\\nInsert new article 371A.\\nThe objective of 13th Amendment was: Formation of State of Nagaland, with special protection under Article 371A. \\nThe 13th Amendment is enforced since: 1 December 1962 \\nThe Prime Minster at the time of 13th Amendment was: Jawaharlal Nehru \\nThe President at the time of 13th Amendment was: Sarvepalli Radhakrishnan \\n\\nThe 14th Amendment Amend articles 81 and 240.\\nInsert article 239A.\\nAmend schedules 1 and 4.\\nThe objective of 14th Amendment was: Incorporation of Pondicherry into the Union of India and creation of Legislative Assemblies for Himachal Pradesh, Tripura, Manipur and Goa. \\nThe 14th Amendment is enforced since: 28 December 1962 \\nThe Prime Minster at the time of 14th Amendment was: Jawaharlal Nehru \\nThe President at the time of 14th Amendment was: Sarvepalli Radhakrishnan \\n\\nThe 15th Amendment Amend articles 124, 128, 217, 222, 224, 226, 297, 311 and 316.\\nInsert article 224A.\\nAmend schedule 7.\\nThe objective of 15th Amendment was: Raise retirement age of High Court judges from 60 to 62 and other minor amendments for rationalising interpretation of rules regarding judges etc. \\nThe 15th Amendment is enforced since: 5 October 1963 \\nThe Prime Minster at the time of 15th Amendment was: Jawaharlal Nehru \\nThe President at the time of 15th Amendment was: Sarvepalli Radhakrishnan \\n\\nThe 16th Amendment Amend articles 19, 84 and 173.\\nAmend schedule 3.\\nThe objective of 16th Amendment was: Make it obligatory for seekers of public office to swear their allegiance to the Indian Republic and prescribe the various obligatory templates. \\nThe 16th Amendment is enforced since: 5 October 1963 \\nThe Prime Minster at the time of 16th Amendment was: Jawaharlal Nehru \\nThe President at the time of 16th Amendment was: Sarvepalli Radhakrishnan \\n\\nThe 17th Amendment Amend article 31A.\\nAmend schedule 9.\\nThe objective of 17th Amendment was: To secure the constitutional validity of acquisition of Estates and place land acquisition laws in Schedule 9 of the constitution. \\nThe 17th Amendment is enforced since: 20 June 1964 \\nThe Prime Minster at the time of 17th Amendment was: Jawaharlal Nehru \\nThe President at the time of 17th Amendment was: Sarvepalli Radhakrishnan \\n\\nThe 18th Amendment Amend article 3.\\nThe objective of 18th Amendment was: Technical Amendment to include Union Territories in Article 3 and hence permit reorganisation of Union Territories. \\nThe 18th Amendment is enforced since: 27 August 1966 \\nThe Prime Minster at the time of 18th Amendment was: Lal Bahadur Shastri \\nThe President at the time of 18th Amendment was: Sarvepalli Radhakrishnan \\n\\nThe 19th Amendment Amend article 324.\\nThe objective of 19th Amendment was: Abolish Election Tribunals and enable trial of election petitions by regular High Courts. \\nThe 19th Amendment is enforced since: 11 December 1966 \\nThe Prime Minster at the time of 19th Amendment was: Lal Bahadur Shastri \\nThe President at the time of 19th Amendment was: Sarvepalli Radhakrishnan \\n\\nThe 20th Amendment Insert article 233A.\\nThe objective of 20th Amendment was: Indemnify & validate judgments, decrees, orders and sentences passed by judges and to validate the appointment, posting, promotion and transfer of judges barring a few who were not eligible for appointment under article 233. Amendment needed to overcome the effect of judgment invalidating appointments of certain judges in the state of Uttar Pradesh. \\nThe 20th Amendment is enforced since: 22 December 1966 \\nThe Prime Minster at the time of 20th Amendment was: Lal Bahadur Shastri \\nThe President at the time of 20th Amendment was: Sarvepalli Radhakrishnan \\n\\nThe 21st Amendment Amend schedule 8.\\nThe objective of 21st Amendment was: Include Sindhi as an official language. \\nThe 21st Amendment is enforced since: 10 April 1967 \\nThe Prime Minster at the time of 21st Amendment was: Indira Gandhi \\nThe President at the time of 21st Amendment was: Sarvepalli Radhakrishnan', metadata={'source': '/content/drive/MyDrive/Project_CILLM/colab_project/Constitution-Xpert using OpenAI Embeddings (1)/file_context_corpus_cleaned_extended_part3.txt'}),\n",
              " Document(page_content=\"Schedule 8: Language\\nSchedule 8 of the Indian Constitution lists the 22 official languages of India. These languages are used for official purposes in the Union and in the States.\\n\\nSchedule 9: Laws to be Passed by Parliament with Special Majority\\nSchedule 9 of the Indian Constitution lists certain laws that can only be passed by Parliament with a special majority.\\n\\nSchedule 10: Provisions as to Disqualification on Ground of Defection\\nSchedule 10 of the Indian Constitution deals with the disqualification of members of Parliament and State Legislatures on the ground of defection.\\n\\nSchedule 11: Panchayats\\nSchedule 11 of the Indian Constitution deals with the establishment, composition, powers and functions of Panchayats in India.\\n\\nSchedule 12: Finance Commission\\nSchedule 12 of the Indian Constitution deals with the composition, functions, and powers of the Finance Commission.\\n\\nFundamental Duties:\\nFundamental duties are the moral obligations that every citizen of India has towards the nation and fellow citizens. They were added to the Indian Constitution in 1976.\\n\\nDirective Principles of State Policy:\\nDirective Principles of State Policy (DPSP) are a set of guidelines for the government of India to follow in order to create a just and equitable society. They were added to the Indian Constitution in 1950.\\n\\nPart I – The Union and its Territories:\\n\\nPart I of the Indian Constitution deals with the Union and its Territories. It defines the territories that constitute the Union of India, and it establishes the central government of India.\\n\\nPart II – Citizenship:\\nPart II of the Indian Constitution deals with Citizenship. It defines who is a citizen of India, and it sets out the procedures for acquiring and losing citizenship.\\n\\nPart III – Fundamental Rights:\\nPart III of the Indian Constitution deals with Fundamental Rights. It guarantees certain rights to all citizens of India, including the right to equality, the right to freedom, the right to property, and the right to life and personal liberty.\\n\\nPart IV – Directive Principles of State Policy:\\nPart IV of the Indian Constitution contains a set of principles that the state should strive to achieve. These principles are not enforceable by the courts, but they are nevertheless important in guiding the government's policies.\\n\\nPart IV A – Fundamental Duties:\\nPart IV A of the Indian Constitution contains a list of 11 fundamental duties that are expected of all citizens of India. These duties are not enforceable by the courts, but they are nevertheless important in guiding the behavior of citizens.\\n\\nPart V – The Union:\\nPart V of the Indian Constitution deals with the structure of the Union government. It establishes a parliamentary system of government at the Union level, with a President as the head of state and a Prime Minister as the head of government.\\n\\nPart VI – The States:\\n(1) Legislative powers of the State.—Subject to the provisions of this Constitution, the Legislature of a State shall have exclusive power to make laws for such State or any part thereof with respect to any of the matters enumerated in List II in the Seventh Schedule (in this Constitution referred to as the “State List”).\\n(2) Nothing in clause (1) shall derogate from the powers of Parliament to make laws with respect to any matter for a State or any part thereof.\\n\\nPart VII – The States in Part B of First Schedule:\\nPart VII of the Indian Constitution deals with the states that were formerly princely states or `Part B` states. These states were governed by a Rajpramukh, who was appointed by the President. The Rajpramukh had the power to appoint the Chief Minister and the Council of Ministers.\", metadata={'source': '/content/drive/MyDrive/Project_CILLM/colab_project/Constitution-Xpert using OpenAI Embeddings (1)/file_context_corpus_cleaned_extended_part3.txt'})]"
            ]
          },
          "metadata": {},
          "execution_count": 34
        }
      ]
    },
    {
      "cell_type": "markdown",
      "source": [
        "### [MultiVector Retriever](https://python.langchain.com/docs/modules/data_connection/retrievers/multi_vector)\n",
        "\n",
        "- The methods to create multiple vectors per document include:\n",
        "\n",
        "    - smaller chunks: split a document into smaller chunks, and embed those (this is ParentDocumentRetriever)\n",
        "    - summary: create a summary for each document, embed that along with (or instead of) the document\n",
        "    - hypothetical questions: create hypothetical questions that each document would be appropriate to answer, embed those along with (or instead of) the document"
      ],
      "metadata": {
        "id": "XvZQNMW8f8lc"
      }
    },
    {
      "cell_type": "code",
      "source": [
        "from langchain.retrievers.multi_vector import MultiVectorRetriever\n",
        "COHERE_API_KEY = return_api_key(\"COHERE_API_KEY\")"
      ],
      "metadata": {
        "id": "be7Avh6msI3l"
      },
      "execution_count": 35,
      "outputs": []
    },
    {
      "cell_type": "code",
      "source": [
        "from langchain.vectorstores import Chroma\n",
        "from langchain.embeddings import CohereEmbeddings\n",
        "from langchain.text_splitter import RecursiveCharacterTextSplitter\n",
        "from langchain.storage import InMemoryStore\n",
        "from langchain.document_loaders import TextLoader"
      ],
      "metadata": {
        "id": "lB6lZxCKtvwE"
      },
      "execution_count": 36,
      "outputs": []
    },
    {
      "cell_type": "code",
      "source": [
        "loaders = TextLoader(text_file_path)\n",
        "\n",
        "docs = loaders.load()\n",
        "text_splitter = RecursiveCharacterTextSplitter(chunk_size=10000)\n",
        "docs = text_splitter.split_documents(docs)"
      ],
      "metadata": {
        "id": "ujB3J_4WuNl9"
      },
      "execution_count": 37,
      "outputs": []
    },
    {
      "cell_type": "markdown",
      "source": [
        "#### Smaller chunks\n"
      ],
      "metadata": {
        "id": "QKOP4O2eu1zk"
      }
    },
    {
      "cell_type": "code",
      "source": [
        "# The vectorstore to use to index the child chunks\n",
        "vectorstore = Chroma(\n",
        "    collection_name=\"full_docs_CI\",\n",
        "    embedding_function=CohereEmbeddings(cohere_api_key=COHERE_API_KEY),\n",
        ")\n",
        "\n",
        "# The Storage layer for the parent documents\n",
        "store = InMemoryStore()\n",
        "id_key = \"doc_id\"\n",
        "\n",
        "# The retriever (empty to start)\n",
        "retriever = MultiVectorRetriever(\n",
        "    vectorstore=vectorstore,\n",
        "    docstore=store,\n",
        "    id_key=id_key,\n",
        ")\n",
        "\n",
        "import uuid\n",
        "doc_ids = [str(uuid.uuid4()) for _ in docs]\n"
      ],
      "metadata": {
        "id": "eIjpP0xNuv9b"
      },
      "execution_count": 38,
      "outputs": []
    },
    {
      "cell_type": "code",
      "source": [
        "# The splitter to use to create the smaller chunks\n",
        "child_text_splitter = RecursiveCharacterTextSplitter(chunk_size=800)"
      ],
      "metadata": {
        "id": "cItsHBtcw2Z3"
      },
      "execution_count": 39,
      "outputs": []
    },
    {
      "cell_type": "code",
      "source": [
        "sub_docs = []\n",
        "for i, doc in enumerate(docs):\n",
        "    _id = doc_ids[i]\n",
        "    _sub_docs = child_text_splitter.split_documents([doc])\n",
        "    for _doc in _sub_docs:\n",
        "        _doc.metadata[id_key] = _id\n",
        "    sub_docs.extend(_sub_docs)"
      ],
      "metadata": {
        "id": "f94DfUcIxRE0"
      },
      "execution_count": 40,
      "outputs": []
    },
    {
      "cell_type": "code",
      "source": [
        "retriever.vectorstore.add_documents(sub_docs)\n",
        "retriever.docstore.mset(list(zip(doc_ids, docs)))"
      ],
      "metadata": {
        "id": "D92wB_2xyKS_"
      },
      "execution_count": 41,
      "outputs": []
    },
    {
      "cell_type": "code",
      "source": [
        "# Vectorstore alone retrieves the small chunks\n",
        "retriever.vectorstore.similarity_search(\"article 29\")"
      ],
      "metadata": {
        "colab": {
          "base_uri": "https://localhost:8080/"
        },
        "id": "7TDrNrclypea",
        "outputId": "db54c60f-f418-473a-bd56-6784aef30695"
      },
      "execution_count": 42,
      "outputs": [
        {
          "output_type": "execute_result",
          "data": {
            "text/plain": [
              "[Document(page_content='Article 49: Protection of monuments and places and objects of national importance.\\nArticle 50: Separation of judiciary from the executive.\\nArticle 51: Promotion of international peace and security.', metadata={'doc_id': '79a8d0f9-f087-4bad-bcb0-fbe589b175cc', 'source': '/content/drive/MyDrive/Project_CILLM/colab_project/Constitution-Xpert using OpenAI Embeddings (1)/file_context_corpus_cleaned_extended_part3.txt'}),\n",
              " Document(page_content='Article 289: Exemption of property and income of a State from Union taxation.\\nArticle 290: Adjustment in respect of certain expenses and pensions.\\nArticle 290A: Annual payment to certain Devaswom Funds.\\nArticle 291: [Repealed].', metadata={'doc_id': 'cf31db4e-34a4-4ad1-b5c1-9f748b7f221b', 'source': '/content/drive/MyDrive/Project_CILLM/colab_project/Constitution-Xpert using OpenAI Embeddings (1)/file_context_corpus_cleaned_extended_part3.txt'}),\n",
              " Document(page_content='Article 39: Certain principles of policy to be followed by the State\\nThe State shall, in particular, direct its policy towards securing—\\n(a) that the citizens, men and women equally, have the right to an adequate means of livelihood;\\n(b) that the ownership and control of the material resources of the community are so distributed as best to subserve the common good;\\n(c) that the operation of the economic system does not result in the concentration of wealth and means of production to the common detriment;\\n(d) that there is equal pay for equal work for both men and women;\\n(e) that the health and strength of workers, men and women, and the tender age of children are not abused and that citizens are not forced by economic necessity to enter avocations unsuited to their age or strength;', metadata={'doc_id': 'aa048d85-f3d4-4dc2-9bd8-27043cf05129', 'source': '/content/drive/MyDrive/Project_CILLM/colab_project/Constitution-Xpert using OpenAI Embeddings (1)/file_context_corpus_cleaned_extended_part3.txt'}),\n",
              " Document(page_content='Article 42: Provision for just and humane conditions of work and maternity relief\\nThe State shall make provision for securing just and humane conditions of work and for maternity relief.', metadata={'doc_id': '1fa3367e-0c98-4e4c-b342-38dcbe04315b', 'source': '/content/drive/MyDrive/Project_CILLM/colab_project/Constitution-Xpert using OpenAI Embeddings (1)/file_context_corpus_cleaned_extended_part3.txt'})]"
            ]
          },
          "metadata": {},
          "execution_count": 42
        }
      ]
    },
    {
      "cell_type": "code",
      "source": [
        "# Retriever returns larger chunks\n",
        "len(retriever.get_relevant_documents(\"article 29\")[0].page_content)"
      ],
      "metadata": {
        "colab": {
          "base_uri": "https://localhost:8080/"
        },
        "id": "jWwNei231Eki",
        "outputId": "cdb3b3ef-7025-4a7a-b927-f40594ac991b"
      },
      "execution_count": 43,
      "outputs": [
        {
          "output_type": "execute_result",
          "data": {
            "text/plain": [
              "8326"
            ]
          },
          "metadata": {},
          "execution_count": 43
        }
      ]
    },
    {
      "cell_type": "code",
      "source": [
        "# sub_docs"
      ],
      "metadata": {
        "id": "1wEq3org038n"
      },
      "execution_count": null,
      "outputs": []
    },
    {
      "cell_type": "code",
      "source": [
        "# # cohr_db.similarity_search(\"article 29\")\n",
        "# bm25_retriever = BM25Retriever.from_documents(docs)\n",
        "# bm25_retriever.k = 2\n",
        "\n",
        "# ensemble_retriever = EnsembleRetriever(retrievers=[bm25_retriever, retriever], weights=[0.5, 0.5])\n",
        "# ensemble_retriever.get_relevant_documents(\"article 29\")"
      ],
      "metadata": {
        "id": "IM1LjgJky-Hg"
      },
      "execution_count": null,
      "outputs": []
    },
    {
      "cell_type": "markdown",
      "source": [
        "#### Summary\n",
        "\n",
        "- Oftentimes a summary may be able to distill more accurately what a chunk is about, leading to better retrieval. Here we show how to create summaries, and then embed those."
      ],
      "metadata": {
        "id": "MJPAQMn52m6m"
      }
    },
    {
      "cell_type": "code",
      "source": [
        "from langchain.llms import Cohere\n",
        "from langchain.prompts import ChatPromptTemplate\n",
        "from langchain.schema.output_parser import StrOutputParser\n",
        "import uuid\n",
        "from langchain.schema.document import Document"
      ],
      "metadata": {
        "id": "9ImZ2IRz2nWU"
      },
      "execution_count": 44,
      "outputs": []
    },
    {
      "cell_type": "code",
      "source": [
        "chain = (\n",
        "    {\"doc\": lambda x: x.page_content}\n",
        "    | ChatPromptTemplate.from_template(\"Summarize the following document:\\n\\n{doc}\")\n",
        "    | Cohere(model=\"command-nightly\", max_retries=0, cohere_api_key=COHERE_API_KEY)\n",
        "    | StrOutputParser()\n",
        ")"
      ],
      "metadata": {
        "id": "9wuAH8fc2-WV"
      },
      "execution_count": null,
      "outputs": []
    },
    {
      "cell_type": "code",
      "source": [
        "# due to free license we are requesting only 5 API calls per minute , therefore this cell will take time\n",
        "# import time\n",
        "# # summaries = chain.batch(docs, {\"max_concurrency\": 1})\n",
        "# summaries = []\n",
        "# for i in range(len(docs)):\n",
        "#     summaries.append(chain.invoke(doc))\n",
        "#     if i%5 == 0:\n",
        "#         time.sleep(60)"
      ],
      "metadata": {
        "id": "Zwv28Irs3X3H"
      },
      "execution_count": null,
      "outputs": []
    },
    {
      "cell_type": "code",
      "source": [
        "# summary_docs = [Document(page_content=s,metadata={id_key: doc_ids[i]}) for i, s in enumerate(summaries)]"
      ],
      "metadata": {
        "id": "PTd9qEHs8_I0"
      },
      "execution_count": null,
      "outputs": []
    },
    {
      "cell_type": "code",
      "source": [
        "import pickle\n",
        "# pickle.dump(summary_docs, open(\"summaries.txt\", \"wb\"))\n",
        "summary_docs = pickle.load(open(\"/content/drive/MyDrive/Project_CILLM/summaries.txt\", 'rb'))"
      ],
      "metadata": {
        "id": "qfWcXI4HBjBY"
      },
      "execution_count": 45,
      "outputs": []
    },
    {
      "cell_type": "code",
      "source": [
        "summary_docs"
      ],
      "metadata": {
        "id": "UApj6KXDD7NH"
      },
      "execution_count": null,
      "outputs": []
    },
    {
      "cell_type": "code",
      "source": [
        "retriever.vectorstore.add_documents(summary_docs)\n",
        "retriever.docstore.mset(list(zip(doc_ids, docs)))"
      ],
      "metadata": {
        "id": "L2YpGGRc3eil"
      },
      "execution_count": 47,
      "outputs": []
    },
    {
      "cell_type": "code",
      "source": [
        "sub_docs = vectorstore.similarity_search(\"Tell me about Article 29\")"
      ],
      "metadata": {
        "id": "r7zYjoD1-V_i"
      },
      "execution_count": 48,
      "outputs": []
    },
    {
      "cell_type": "code",
      "source": [
        "sub_docs[0]"
      ],
      "metadata": {
        "colab": {
          "base_uri": "https://localhost:8080/"
        },
        "id": "QYik4njCEEgp",
        "outputId": "ba8c12d7-99b5-4b98-e4af-7927005ab604"
      },
      "execution_count": 49,
      "outputs": [
        {
          "output_type": "execute_result",
          "data": {
            "text/plain": [
              "Document(page_content='Article 289: Exemption of property and income of a State from Union taxation.\\nArticle 290: Adjustment in respect of certain expenses and pensions.\\nArticle 290A: Annual payment to certain Devaswom Funds.\\nArticle 291: [Repealed].', metadata={'doc_id': 'cf31db4e-34a4-4ad1-b5c1-9f748b7f221b', 'source': '/content/drive/MyDrive/Project_CILLM/colab_project/Constitution-Xpert using OpenAI Embeddings (1)/file_context_corpus_cleaned_extended_part3.txt'})"
            ]
          },
          "metadata": {},
          "execution_count": 49
        }
      ]
    },
    {
      "cell_type": "code",
      "source": [
        "retrieved_docs = retriever.get_relevant_documents(\"Tell me bout Article 29\")"
      ],
      "metadata": {
        "id": "KnA2WJ4Z-i22"
      },
      "execution_count": 50,
      "outputs": []
    },
    {
      "cell_type": "code",
      "source": [],
      "metadata": {
        "colab": {
          "base_uri": "https://localhost:8080/"
        },
        "id": "1gVNJ--jEIpK",
        "outputId": "c6076f49-aefe-4873-ea56-4484ae918a5c"
      },
      "execution_count": null,
      "outputs": [
        {
          "output_type": "execute_result",
          "data": {
            "text/plain": [
              "[]"
            ]
          },
          "metadata": {},
          "execution_count": 93
        }
      ]
    },
    {
      "cell_type": "markdown",
      "source": [
        "### [Self Querying](https://python.langchain.com/docs/modules/data_connection/retrievers/self_query/)\n",
        "\n",
        "- A self-querying retriever is one that, as the name suggests, has the ability to query itself.\n",
        "-  Specifically, given any natural language query, the retriever uses a query-constructing LLM chain to write a structured query and then applies that structured query to it's underlying VectorStore.\n",
        "- This allows the retriever to not only use the user-input query for semantic similarity comparison with the contents of stored documented, but to also extract filters from the user query on the metadata of stored documents and to execute those filters."
      ],
      "metadata": {
        "id": "0pssBSF3fPxE"
      }
    },
    {
      "cell_type": "markdown",
      "source": [
        "### [WebResearchRetriever](https://python.langchain.com/docs/modules/data_connection/retrievers/web_research)\n",
        "\n",
        "Given a query, this retriever will:\n",
        "\n",
        "- Formulate a set of relate Google searches\n",
        "- Search for each\n",
        "- Load all the resulting URLs\n",
        "- Then embed and perform similarity search with the query on the consolidate page content"
      ],
      "metadata": {
        "id": "5I0LClgGe-Ev"
      }
    },
    {
      "cell_type": "code",
      "source": [
        "from langchain.retrievers.web_research import WebResearchRetriever\n",
        "GOOGLE_API_KEY = return_api_key(\"GOOGLE_API_KEY\")\n",
        "GOOGLE_CSE_ID = return_api_key(\"GOOGLE_CSE_ID\")\n",
        "COHERE_API_KEY = return_api_key(\"COHERE_API_KEY\")\n"
      ],
      "metadata": {
        "id": "fFoaRMoxAbGK"
      },
      "execution_count": 51,
      "outputs": []
    },
    {
      "cell_type": "code",
      "source": [
        "from langchain.vectorstores import Chroma\n",
        "from langchain.embeddings import CohereEmbeddings\n",
        "from langchain.utilities import GoogleSearchAPIWrapper\n",
        "from langchain.llms import Cohere\n",
        "from langchain.chat_models import ChatLiteLLM\n",
        "embedding_function = CohereEmbeddings(cohere_api_key=COHERE_API_KEY)\n",
        "\n",
        "# LLM\n",
        "\n",
        "llm = Cohere(model=\"command-nightly\", cohere_api_key=COHERE_API_KEY)\n",
        "# bug in LiteLLM cohere integration\n",
        "# use\n",
        "import os\n",
        "os.environ['COHERE_API_KEY'] = COHERE_API_KEY\n",
        "llm = ChatLiteLLM(model=\"command-nightly\", cohere_api_key=COHERE_API_KEY, )\n"
      ],
      "metadata": {
        "id": "xcxv3yGsE1oZ"
      },
      "execution_count": 62,
      "outputs": []
    },
    {
      "cell_type": "code",
      "source": [
        "# Vectorstore\n",
        "vectorstore = Chroma(embedding_function=embedding_function, persist_directory=\"./chroma_db_cohr_go\")\n",
        "\n"
      ],
      "metadata": {
        "id": "YYuZC07bVvuv"
      },
      "execution_count": 63,
      "outputs": []
    },
    {
      "cell_type": "code",
      "source": [
        "# Search\n",
        "search = GoogleSearchAPIWrapper(google_api_key=GOOGLE_API_KEY, google_cse_id=GOOGLE_CSE_ID)"
      ],
      "metadata": {
        "id": "I-kFCdVBWxTA"
      },
      "execution_count": 64,
      "outputs": []
    },
    {
      "cell_type": "code",
      "source": [
        "# Initialize\n",
        "web_research_retriever = WebResearchRetriever.from_llm(\n",
        "    vectorstore=vectorstore,\n",
        "    llm=llm,\n",
        "    search=search\n",
        "\n",
        ")"
      ],
      "metadata": {
        "id": "8I8KzbqYXmLW"
      },
      "execution_count": 65,
      "outputs": []
    },
    {
      "cell_type": "code",
      "source": [],
      "metadata": {
        "id": "ulisfcLJjuo7"
      },
      "execution_count": 65,
      "outputs": []
    },
    {
      "cell_type": "code",
      "source": [
        "import nest_asyncio\n",
        "nest_asyncio.apply()\n",
        "\n",
        "## Run with citations\n",
        "from langchain.chains import RetrievalQAWithSourcesChain\n",
        "\n",
        "user_input = \"Explain article 29 in detail!\"\n",
        "\n",
        "qa_chain = RetrievalQAWithSourcesChain.from_chain_type(\n",
        "    llm,\n",
        "    retriever=web_research_retriever,\n",
        "    max_tokens_limit=4096\n",
        ")\n",
        "\n",
        "result = qa_chain({\"question\": user_input})\n",
        "result"
      ],
      "metadata": {
        "colab": {
          "base_uri": "https://localhost:8080/"
        },
        "id": "dhruPGVvYoPU",
        "outputId": "5a812b2f-1eeb-4dc3-9b7a-689a86aaa36a"
      },
      "execution_count": 67,
      "outputs": [
        {
          "output_type": "stream",
          "name": "stderr",
          "text": [
            "Fetching pages: 100%|##########| 1/1 [00:00<00:00,  3.41it/s]\n"
          ]
        },
        {
          "output_type": "execute_result",
          "data": {
            "text/plain": [
              "{'question': 'Explain article 29 in detail!',\n",
              " 'answer': ' The Universal Declaration of Human Rights, or UDHR, is a document that was written by the United Nations in 1948. It is a declaration of all human rights and fundamental freedoms. It is not a binding document, but it does provide a basis for all human rights treaties. The document contains 30 articles that detail the rights of all human beings.',\n",
              " 'sources': ''}"
            ]
          },
          "metadata": {},
          "execution_count": 67
        }
      ]
    },
    {
      "cell_type": "code",
      "source": [
        "# Run with logging\n",
        "import logging\n",
        "logging.basicConfig()\n",
        "logging.getLogger(\"langchain.retrievers.web_research\").setLevel(logging.INFO)\n",
        "user_input = \"Explain article 29 of indian constitution in detail \"\n",
        "docs = web_research_retriever.get_relevant_documents(user_input)"
      ],
      "metadata": {
        "colab": {
          "base_uri": "https://localhost:8080/"
        },
        "id": "h4g2LYU4ZUGX",
        "outputId": "18234b69-299c-47f3-bee3-b2b7d869b2d3"
      },
      "execution_count": 68,
      "outputs": [
        {
          "output_type": "stream",
          "name": "stderr",
          "text": [
            "INFO:langchain.retrievers.web_research:Generating questions for Google Search ...\n",
            "Your text contains a trailing whitespace, which has been trimmed to ensure high quality generations.\n",
            "INFO:langchain.retrievers.web_research:Questions for Google Search (raw): {'question': 'Explain article 29 of indian constitution in detail ', 'text': LineList(lines=['1. \"What is article 29 of the indian constitution about ?\"\\n', '2. \"article 29 of indian constitution\"\\n', '3. \"Explain article 29 of indian constitution in detail ?\"'])}\n",
            "INFO:langchain.retrievers.web_research:Questions for Google Search: ['1. \"What is article 29 of the indian constitution about ?\"\\n', '2. \"article 29 of indian constitution\"\\n', '3. \"Explain article 29 of indian constitution in detail ?\"']\n",
            "INFO:langchain.retrievers.web_research:Searching for relevant urls...\n",
            "INFO:langchain.retrievers.web_research:Searching for relevant urls...\n",
            "INFO:langchain.retrievers.web_research:Search results: [{'title': 'Cultural and Educational Rights - Articles 29 & 30 [UPSC Indian ...', 'link': 'https://byjus.com/free-ias-prep/cultural-and-educational-rights-articles-29-30/', 'snippet': 'Article 30 of the Indian Constitution provides minorities with the right to establish and manage their own educational institutions. Q3. What is Article 21 of\\xa0...'}]\n",
            "INFO:langchain.retrievers.web_research:Searching for relevant urls...\n",
            "INFO:langchain.retrievers.web_research:Search results: [{'title': 'Cultural and Educational Rights - Articles 29 & 30 [UPSC Indian ...', 'link': 'https://byjus.com/free-ias-prep/cultural-and-educational-rights-articles-29-30/', 'snippet': 'Article 30 of the Indian Constitution provides minorities with the right to establish and manage their own educational institutions. Q3. What is Article 21 of\\xa0...'}]\n",
            "INFO:langchain.retrievers.web_research:Searching for relevant urls...\n",
            "INFO:langchain.retrievers.web_research:Search results: [{'title': 'Cultural and Educational Rights - Articles 29 & 30 [UPSC Indian ...', 'link': 'https://byjus.com/free-ias-prep/cultural-and-educational-rights-articles-29-30/', 'snippet': 'Article 29(1): This provides any section of the citizens residing in India having a distinct culture, language, or script, the right to conserve their culture,\\xa0...'}]\n",
            "INFO:langchain.retrievers.web_research:New URLs to load: ['https://byjus.com/free-ias-prep/cultural-and-educational-rights-articles-29-30/']\n",
            "INFO:langchain.retrievers.web_research:Indexing new urls...\n",
            "Fetching pages: 100%|##########| 1/1 [00:01<00:00,  1.43s/it]\n",
            "INFO:langchain.retrievers.web_research:Grabbing most relevant splits from urls...\n"
          ]
        }
      ]
    },
    {
      "cell_type": "code",
      "source": [
        "docs"
      ],
      "metadata": {
        "colab": {
          "base_uri": "https://localhost:8080/"
        },
        "id": "IoKPwW7pi1fJ",
        "outputId": "3d4244b6-3f21-4f65-8040-93f1bd94998c"
      },
      "execution_count": 69,
      "outputs": [
        {
          "output_type": "execute_result",
          "data": {
            "text/plain": [
              "[Document(page_content='**_To complement your preparation for the upcoming exam, check the following\\nlinks:_**\\n\\n  *     * **Daily Video Analysis- The Hindu Newspaper**\\n    * **Daily Press Information Bureau (PIB) Analysis**\\n    * **Download NCERT Notes PDF (Free) for UPSC Exam**\\n    * **Download Indian Polity Notes PDF (Free) for IAS Exam**\\n    * **Latest Current Affairs**\\n\\n  \\n---  \\n  \\n## Cultural and Educational Rights\\n\\nFundamental Rights guarantee basic rights to the citizens of India. There are\\nsix fundamental rights enshrined in the Constitution of India, and Articles 29\\nand 30 deals with the cultural and educational rights of Indian citizens.\\n\\n  1. This fundamental right intends to preserve the culture of minority groups in India.\\n  2. Indian society is a composite heterogeneous one and its diversity is one of its strengths.\\n  3. The Constitution guarantees these rights to minorities so that the diversity of this country is preserved and provides avenues for all groups including marginalized ones to protect, preserve, and propagate their culture.\\n\\n### Article 29 - Protection of Interests of Minorities\\n\\nThis article is intended to protect the interests of minority groups.\\n\\n**Article 29(1):** This provides any section of the citizens residing in India\\nhaving a distinct culture, language, or script, the right to conserve their\\nculture, language and script.', metadata={'source': 'https://byjus.com/free-ias-prep/cultural-and-educational-rights-articles-29-30/'}),\n",
              " Document(page_content=\"Q2\\n\\n### What is Article 30?\\n\\nArticle 30 of the Indian Constitution provides minorities with the right to\\nestablish and manage their own educational institutions.\\n\\nQ3\\n\\n### What is Article 21 of the Constitution?\\n\\nArticle 21 of the Constitution guarantees the Right to Life. It is one of the\\nmost important fundamental rights guaranteed to the people of India.\\n\\nThe above details would help candidates prepare for UPSC 2023.\\n\\n**Related Links**\\n\\nIAS Salary | Right to Equality (Articles 14 - 18)  \\n---|---  \\nBicameral Legislature | Amrut Yojana  \\nLater Vedic Period | What is the National Flower of India  \\nNational Solar Mission | Polity MCQs  \\n  \\nIAS General Studies Notes Links  \\n---  \\nSacred Groves |  Vinoba Bhave  \\nVsat |  Mission Indradhanush  \\nLca Tejas |  Atmanirbhar Bharat  \\nHigh Court In India |  Pm Kusum Yojana  \\nHiuen Tsang |  Kudankulam Nuclear Power Plant  \\n  \\n#### Comments\\n\\n### Leave a Comment Cancel reply\\n\\nYour Mobile number and Email id will not be published. Required fields are\\nmarked *\\n\\n*\\n\\nSend OTP\\n\\nDid not receive OTP?\\n\\nRequest OTP on  Voice Call\\n\\n*\\n\\n*\\n\\nWebsite\\n\\n*\\n\\nGrade/Exam Class 1 Class 2 Class 3 Class 4 Class 5 Class 6 Class 7 Class 8\\nClass 9 Class 10 Class 11 Class 12 IAS CAT Bank Exam GATE\\n\\n*\\n\\n*\\n\\nPost My Comment\\n\\n#### Join BYJU'S Learning Program\\n\\nSubmit\\n\\n#### Daily Updates - 27/08/2023\\n\\n**UPSC Mains DAF 2023 Released**\\n\\n* * *\\n\\n**Daily Free Current Affairs Notes**\\n\\n* * *\\n\\n**Comprehensive News Analysis - 27 Aug 2023**\\n\\n* * *\", metadata={'source': 'https://byjus.com/free-ias-prep/cultural-and-educational-rights-articles-29-30/'}),\n",
              " Document(page_content='**Article 29(2):** The State shall not deny admission into educational\\ninstitutes maintained by it or those that receive aid from it to any person\\nbased only on race, religion, caste, language, or any of them.\\n\\n**Aspirants can find a comprehensiveList of Important Articles in the\\nConstitution of India in the given link.**\\n\\n### Article 30 - Right of Minorities to Establish and Administer Educational\\nInstitutions\\n\\nThis right is given to minorities to form and govern their own educational\\ninstitutions. Article 30 is also called the **“Charter of Education Rights”**.\\n\\n**Article 30(1):** All religious and linguistic minorities have the right to\\nestablish and administer educational institutions of their choice. (Read about\\nMinority Protection in India in the linked article.)\\n\\n**Article 30(2):** The State shall not, when granting aid to educational\\ninstitutions, discriminate against any educational institution on the ground\\nthat it is under the management of a minority, whether based on religion or\\nlanguage.\\n\\n**Visit the given link for an overview of theConstitution of India.**\\n\\n**Cultural & Educational Rights -** **Indian Polity:-** Download PDF Here\\n\\n## UPSC Questions related to Cultural & Educational Rights\\n\\nQ1\\n\\n### What are Cultural and Educational Rights?\\n\\nCultural and educational rights are guaranteed by the Constitution to\\nreligious and linguistic minority groups in India, to enable them to preserve\\ntheir distinct culture, language or script.\\n\\nQ2\\n\\n### What is Article 30?', metadata={'source': 'https://byjus.com/free-ias-prep/cultural-and-educational-rights-articles-29-30/'}),\n",
              " Document(page_content='## Article 21\\n\\n  1. Everyone has the right to take part in the government of his country, directly or through freely chosen representatives.\\n  2. Everyone has the right of equal access to public service in his country.\\n  3. The will of the people shall be the basis of the authority of government; this will shall be expressed in periodic and genuine elections which shall be by universal and equal suffrage and shall be held by secret vote or by equivalent free voting procedures.\\n\\n## Article 22\\n\\nEveryone, as a member of society, has the right to social security and is\\nentitled to realization, through national effort and international co-\\noperation and in accordance with the organization and resources of each State,\\nof the economic, social and cultural rights indispensable for his dignity and\\nthe free development of his personality.\\n\\n## Article 23\\n\\n  1. Everyone has the right to work, to free choice of employment, to just and favourable conditions of work and to protection against unemployment.\\n  2. Everyone, without any discrimination, has the right to equal pay for equal work.\\n  3. Everyone who works has the right to just and favourable remuneration ensuring for himself and his family an existence worthy of human dignity, and supplemented, if necessary, by other means of social protection.\\n  4. Everyone has the right to form and to join trade unions for the protection of his interests.\\n\\n## Article 24', metadata={'source': 'https://www.un.org/en/about-us/universal-declaration-of-human-rights'})]"
            ]
          },
          "metadata": {},
          "execution_count": 69
        }
      ]
    },
    {
      "cell_type": "code",
      "source": [
        "# Generate answer using retrieved docs\n",
        "from langchain.chains.question_answering import load_qa_chain\n",
        "chain = load_qa_chain(llm, chain_type=\"stuff\")\n",
        "output = chain({\"input_documents\": docs, \"question\": user_input},return_only_outputs=True)\n",
        "output['output_text']"
      ],
      "metadata": {
        "colab": {
          "base_uri": "https://localhost:8080/",
          "height": 157
        },
        "id": "STD_fquuktyc",
        "outputId": "bd22e981-0c8a-4ed8-f1c1-4f4f1f87c279"
      },
      "execution_count": 70,
      "outputs": [
        {
          "output_type": "stream",
          "name": "stderr",
          "text": [
            "Your text contains a trailing whitespace, which has been trimmed to ensure high quality generations.\n"
          ]
        },
        {
          "output_type": "execute_result",
          "data": {
            "text/plain": [
              "'Article 29 of the Indian Constitution deals with the protection of interests of minorities. It states that any section of citizens having a distinct language, script or culture have the right to conserve the same. It prohibits the State from discrimination against any citizen on grounds of religion, race, caste, language or any of them. \\n\\nThis Article also prohibits the State from denying admission to any citizen in institutions of education maintained by it or receiving aid from it. However, this Article does not deny the State from making any special provision for the educational advancement of any minority community or for the advancement of any tribe or caste or class of citizens or for the advancement of women or for the disadvantaged sections of the society. \\n\\nArticle 29 is in Part III of the Constitution, which is titled Fundamental Rights. Fundamental Rights are basic human rights that have been guaranteed by the Constitution of India to every citizen of India. These rights are justiciable, which means that they can be enforced by citizens in a court of law. The fundamental rights are further divided into basic and special categories. Article 29 falls under the basic fundamental rights.'"
            ],
            "application/vnd.google.colaboratory.intrinsic+json": {
              "type": "string"
            }
          },
          "metadata": {},
          "execution_count": 70
        }
      ]
    },
    {
      "cell_type": "markdown",
      "source": [
        "#### More Flexibility\n",
        "\n",
        "- We can pass an LLM chain with custom prompt and output parsing"
      ],
      "metadata": {
        "id": "YNM6dOR9lRTW"
      }
    },
    {
      "cell_type": "code",
      "source": [
        "import os\n",
        "import re\n",
        "from typing import List\n",
        "from langchain.chains import LLMChain\n",
        "from pydantic import BaseModel, Field\n",
        "from langchain.prompts import PromptTemplate\n",
        "from langchain.output_parsers.pydantic import PydanticOutputParser"
      ],
      "metadata": {
        "id": "8Q11cMFzupou"
      },
      "execution_count": 71,
      "outputs": []
    },
    {
      "cell_type": "code",
      "source": [
        "# LLMChain\n",
        "search_prompt = PromptTemplate(\n",
        "    input_variables=[\"question\"],\n",
        "    template=\"\"\"You are an assistant tasked with improving Google search results limited to country INDIA only\n",
        "    Generate FIVE Google search queries that are similar to this question. The output should be a numbered list of questions and each\n",
        "    should have a question mark at the end: {question} \"\"\"\n",
        ")"
      ],
      "metadata": {
        "id": "YdtIl56c1WcG"
      },
      "execution_count": 72,
      "outputs": []
    },
    {
      "cell_type": "code",
      "source": [
        "class LineList(BaseModel):\n",
        "    \"\"\"List of questions.\"\"\"\n",
        "    lines: List[str] = Field(description=\"Questions\")\n",
        "\n",
        "class QuestionListOutputParser(PydanticOutputParser):\n",
        "    \"\"\"Output parser for a list of numbered questions.\"\"\"\n",
        "    def __init__(self) -> None:\n",
        "        super().__init__(pydantic_object=LineList)\n",
        "\n",
        "    def parse(self, text: str) -> LineList:\n",
        "        lines = re.findall(r\"\\d+\\..*?\\n\", text)\n",
        "        return LineList(lines=lines)\n"
      ],
      "metadata": {
        "id": "XiMLAdCc2XHk"
      },
      "execution_count": 73,
      "outputs": []
    },
    {
      "cell_type": "code",
      "source": [
        "llm_chain = LLMChain(\n",
        "    llm=llm,\n",
        "    prompt=search_prompt,\n",
        "    output_parser = QuestionListOutputParser()\n",
        ")"
      ],
      "metadata": {
        "id": "KL39SRKG3WtJ"
      },
      "execution_count": 74,
      "outputs": []
    },
    {
      "cell_type": "code",
      "source": [
        "# Initialize\n",
        "web_research_retriever_llm_chain = WebResearchRetriever(\n",
        "    vectorstore=vectorstore,\n",
        "    llm_chain=llm_chain,\n",
        "    search=search\n",
        ")\n",
        "\n",
        "# Run\n",
        "user_input = \"What are writs?\"\n",
        "docs = web_research_retriever_llm_chain.get_relevant_documents(user_input)"
      ],
      "metadata": {
        "colab": {
          "base_uri": "https://localhost:8080/"
        },
        "id": "pVYLm1rQ3i5t",
        "outputId": "7b830fa7-63e7-4520-c7ab-b433bff870a1"
      },
      "execution_count": 75,
      "outputs": [
        {
          "output_type": "stream",
          "name": "stderr",
          "text": [
            "INFO:langchain.retrievers.web_research:Generating questions for Google Search ...\n",
            "Your text contains a trailing whitespace, which has been trimmed to ensure high quality generations.\n",
            "INFO:langchain.retrievers.web_research:Questions for Google Search (raw): {'question': 'What are writs?', 'text': LineList(lines=['1. What are writs in India?\\n', '2. Writs in the Indian Constitution\\n', '3. Writs and their types\\n', '4. List of writs in the Indian Constitution\\n'])}\n",
            "INFO:langchain.retrievers.web_research:Questions for Google Search: ['1. What are writs in India?\\n', '2. Writs in the Indian Constitution\\n', '3. Writs and their types\\n', '4. List of writs in the Indian Constitution\\n']\n",
            "INFO:langchain.retrievers.web_research:Searching for relevant urls...\n",
            "INFO:langchain.retrievers.web_research:Searching for relevant urls...\n",
            "INFO:langchain.retrievers.web_research:Search results: [{'title': 'Types of Writs in Indian Constitution - Polity Notes', 'link': 'https://byjus.com/free-ias-prep/types-of-writs-in-india/', 'snippet': 'Habeas Corpus; Mandamus; Prohibition; Certiorari; Quo-Warranto. Aspirants should go through these writs one-by-one as all of these are important for\\xa0...'}]\n",
            "INFO:langchain.retrievers.web_research:Searching for relevant urls...\n",
            "INFO:langchain.retrievers.web_research:Search results: [{'title': 'Types of Writs in Indian Constitution - Polity Notes', 'link': 'https://byjus.com/free-ias-prep/types-of-writs-in-india/', 'snippet': 'Article 32 in the Indian Constitution deals with constitutional remedies that ... of IAS Mains GS-II and Political Science optional paper of the UPSC Exam.'}]\n",
            "INFO:langchain.retrievers.web_research:Searching for relevant urls...\n",
            "INFO:langchain.retrievers.web_research:Search results: [{'title': 'APP-150-INFO', 'link': 'https://www.courts.ca.gov/partners/documents/APP-150-INFO.pdf', 'snippet': 'There are three main types of writs: writs of mandate (sometimes called “mandamus”), ... each type of writ that you should read: see Code of Civil Procedure\\xa0...'}]\n",
            "INFO:langchain.retrievers.web_research:Searching for relevant urls...\n",
            "INFO:langchain.retrievers.web_research:Search results: [{'title': 'Types of Writs in Indian Constitution - Polity Notes', 'link': 'https://byjus.com/free-ias-prep/types-of-writs-in-india/', 'snippet': 'Habeas Corpus; Mandamus; Prohibition; Certiorari; Quo-Warranto. Aspirants should go through these writs one-by-one as all of these are important for\\xa0...'}]\n",
            "INFO:langchain.retrievers.web_research:New URLs to load: ['https://byjus.com/free-ias-prep/types-of-writs-in-india/', 'https://www.courts.ca.gov/partners/documents/APP-150-INFO.pdf']\n",
            "INFO:langchain.retrievers.web_research:Indexing new urls...\n",
            "Fetching pages:   0%|          | 0/2 [00:00<?, ?it/s]ERROR:langchain.document_loaders.async_html:Failed to decode content from https://www.courts.ca.gov/partners/documents/APP-150-INFO.pdf\n",
            "Fetching pages: 100%|##########| 2/2 [00:00<00:00,  3.20it/s]\n",
            "INFO:langchain.retrievers.web_research:Grabbing most relevant splits from urls...\n"
          ]
        }
      ]
    },
    {
      "cell_type": "code",
      "source": [
        "docs"
      ],
      "metadata": {
        "colab": {
          "base_uri": "https://localhost:8080/"
        },
        "id": "M30DXsXx4ACf",
        "outputId": "c6c8dc8a-ee7d-4651-8d39-e3dd09fd3790"
      },
      "execution_count": 76,
      "outputs": [
        {
          "output_type": "execute_result",
          "data": {
            "text/plain": [
              "[Document(page_content='## What is Writ?\\n\\nWrits are a written order from the Supreme Court or High Court that commands\\nconstitutional remedies for Indian Citizens against the violation of their\\nfundamental rights. Article 32 in the Indian Constitution deals with\\nconstitutional remedies that an Indian citizen can seek from the Supreme Court\\nof India and High Court against the violation of his/her fundamental rights.\\nThe same article gives the Supreme Court power to issue writs for the\\nenforcement of rights whereas the High Court has the same power under Article\\n226. The writs- Habeas Corpus, Mandamus, Certiorari, Quo Warranto, and\\nProhibition form an important topic for IAS Exam and its three stages-\\nPrelims, Mains, and Interview.\\n\\n**Types of Writs in India - Indian Polity Notes**  \\nDownload PDF Here\\n\\nThis article will mention the types of writs that come under the original\\njurisdiction of the Supreme Court and High Courts, forming an important part\\nof IAS Mains GS-II and Political Science optional paper of the UPSC Exam.\\n\\n## Types of Writs in India\\n\\nThe Supreme Court of India is the defender of the fundamental rights of the\\ncitizens. For that, it has original and wide powers. It issues five kinds of\\nwrits for enforcing the fundamental rights of the citizens. The five types of\\nwrits are:\\n\\n  1. Habeas Corpus\\n  2. Mandamus\\n  3. Prohibition\\n  4. Certiorari\\n  5. Quo-Warranto', metadata={'source': 'https://byjus.com/free-ias-prep/types-of-writs-in-india/'}),\n",
              " Document(page_content='Or\\n\\n  * Outside its territorial jurisdiction only if the cause of action arises within its territorial jurisdiction\\n\\n  \\n**Power** | Article 32 is a fundamental right- the Supreme Court may not\\nrefuse to exercise its power to issue the writs | **Discretionary** -May\\nrefuse to exercise its power to issue writs  \\n  \\nThe details of writs are important for UPSC 2023 as questions can appear in\\nprelims related to the original jurisdiction of the Supreme Court and more.\\n\\nTo know in detail about the IAS Syllabus, aspirants must check out the\\nofficial notification and analyse the exam pattern and the subjects included\\nin the written papers for the UPSC examination.\\n\\nAlso, refer to the previous year IAS Topper list and get inspired and\\nmotivated from their success stories.\\n\\n**Types of Writs in India - Indian Polity Notes**  \\nDownload PDF Here\\n\\n## UPSC Questions related to Types of Writs\\n\\nQ1\\n\\n### Which article in the Indian Constitution empowers Parliament to authorize\\nany court to issue writ?\\n\\nArticle 32 of the Indian Constitution. To read more on important articles in\\nIndian Constitution, check the linked article.\\n\\nQ2\\n\\n### Which writ is issued by a High Court or the Supreme Court to order an\\nauthority to perform a function that it was not performing?\\n\\nMandamus writ is issued by the court to compel an authority to resume its\\nwork.\\n\\nQ3\\n\\n### Which writ is called the defender of fundamental rights?\\n\\nWrit of Habeas Corpus is called the defender of fundamental rights.', metadata={'source': 'https://byjus.com/free-ias-prep/types-of-writs-in-india/'}),\n",
              " Document(page_content='**Note:** This writ gives the right to seek redressal to any individual other\\nthan the aggrieved person.\\n\\n**General Facts about Writs in India:**\\n\\n  * Article 32 also empowers Parliament to authorize any other court to issue these writs\\n  * Before 1950, only the High Courts of Calcutta, Bombay and Madras had the power to issue the writs\\n  * Article 226 empowers all the High Courts of India to issue the writs\\n  * Writs of India are borrowed from English law where they are known as ‘Prerogative writs’\\n\\nCSE exam aspirants must also know the difference between the Writ Jurisdiction\\nof Supreme Court and High Court, as discussed below.\\n\\n### How Writ Jurisdiction of the Supreme Court Differs from that of the High\\nCourt?\\n\\nWhere Article 32 of the Indian Constitution empowers the Supreme Court to\\nissue writs; Article 226 empowers the High Courts of India. However, there are\\na few differences between the writ jurisdiction of both the courts which are\\ngiven in the table below:\\n\\n**Difference** | **Supreme Court** | **High Court**  \\n---|---|---  \\n**Purpose** | To only enforce fundamental rights | To enforce fundamental\\nrights but also for other purposes (The expression ‘ **for any other purpose**\\n’ refers to the enforcement of an ordinary legal right)  \\n**Territorial Jurisdiction** | Against a person or government throughout the\\nterritory of India |\\n\\n  * Against a person residing, government or authority located within its territorial jurisdiction only\\n\\nOr', metadata={'source': 'https://byjus.com/free-ias-prep/types-of-writs-in-india/'}),\n",
              " Document(page_content='Aspirants should go through these writs one-by-one as all of these are\\nimportant for UPSC prelims and UPSC Mains and can help score well if\\nunderstood with clarity.\\n\\n### Habeas Corpus\\n\\nThe Latin meaning of the word ‘Habeas Corpus’ is ‘To have the body of.’ This\\nwrit is used to enforce the fundamental right of individual liberty against\\nunlawful detention. Through Habeas Corpus, Supreme Court/High Court orders one\\nperson who has arrested another person to bring the body of the latter before\\nthe court.\\n\\n**Facts about Habeas Corpus in India:**\\n\\n  * The Supreme Court or High Court can issue this writ against both private and public authorities.\\n  * Habeas Corpus can not be issued in the following cases: \\n    * When detention is lawful\\n    * When the proceeding is for contempt of a legislature or a court\\n    * Detention is by a competent court\\n    * Detention is outside the jurisdiction of the court\\n\\n### Mandamus\\n\\nThe literal meaning of this writ is ‘We command.’ This writ is used by the\\ncourt to order the public official who has failed to perform his duty or\\nrefused to do his duty, to resume his work. Besides public officials, Mandamus\\ncan be issued against any public body, a corporation, an inferior court, a\\ntribunal, or government for the same purpose.\\n\\n**Facts about Mandamus in India:**', metadata={'source': 'https://byjus.com/free-ias-prep/types-of-writs-in-india/'})]"
            ]
          },
          "metadata": {},
          "execution_count": 76
        }
      ]
    },
    {
      "cell_type": "code",
      "source": [
        "# Generate answer using retrieved docs\n",
        "from langchain.chains.question_answering import load_qa_chain\n",
        "chain = load_qa_chain(llm, chain_type=\"stuff\")\n",
        "output = chain({\"input_documents\": docs, \"question\": user_input},return_only_outputs=True)\n",
        "output['output_text']"
      ],
      "metadata": {
        "colab": {
          "base_uri": "https://localhost:8080/",
          "height": 36
        },
        "id": "vDWMm7Eu4Evm",
        "outputId": "695a7aa2-4901-4b72-f8fa-716fcb0d2827"
      },
      "execution_count": 77,
      "outputs": [
        {
          "output_type": "execute_result",
          "data": {
            "text/plain": [
              "' A writ is a written order from a court. There are five types of writs: Habeas Corpus, Mandamus, Prohibition, Certiorari, and Quo Warranto.'"
            ],
            "application/vnd.google.colaboratory.intrinsic+json": {
              "type": "string"
            }
          },
          "metadata": {},
          "execution_count": 77
        }
      ]
    },
    {
      "cell_type": "code",
      "source": [],
      "metadata": {
        "id": "SVUZUlBV4k5g"
      },
      "execution_count": null,
      "outputs": []
    }
  ]
}